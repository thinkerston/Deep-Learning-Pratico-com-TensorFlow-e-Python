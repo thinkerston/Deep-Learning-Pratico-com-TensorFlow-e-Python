{
 "cells": [
  {
   "cell_type": "markdown",
   "metadata": {},
   "source": [
    "# Projeto 13 - Compactação de imagens "
   ]
  },
  {
   "cell_type": "code",
   "execution_count": 2,
   "metadata": {},
   "outputs": [],
   "source": [
    "import pandas as pd \n",
    "import numpy as np\n",
    "import matplotlib.pyplot as plt\n",
    "import seaborn as sns\n",
    "import PIL\n",
    "import tensorflow as tf\n",
    "from tensorflow.keras import layers, models\n",
    "import os\n",
    "import pickle\n",
    "import zipfile\n"
   ]
  },
  {
   "cell_type": "code",
   "execution_count": 3,
   "metadata": {},
   "outputs": [],
   "source": [
    "with open ('datasets/traffic-signs-data/train.p', 'rb') as train_file:\n",
    "    train = pickle.load(train_file)\n",
    "    \n",
    "with open ('datasets/traffic-signs-data/test.p', 'rb') as test_file:\n",
    "    test = pickle.load(test_file)\n",
    "    \n",
    "with open ('datasets/traffic-signs-data/valid.p', 'rb') as valid_file:\n",
    "    valid = pickle.load(valid_file)"
   ]
  },
  {
   "cell_type": "code",
   "execution_count": 5,
   "metadata": {},
   "outputs": [],
   "source": [
    "X_train, y_train = train['features'], train['labels']\n",
    "X_test, y_test = test['features'], test['labels']\n",
    "X_valid, y_valid = valid['features'], valid['labels']"
   ]
  },
  {
   "cell_type": "code",
   "execution_count": 6,
   "metadata": {},
   "outputs": [
    {
     "data": {
      "text/plain": [
       "<matplotlib.image.AxesImage at 0x7f77284525b0>"
      ]
     },
     "execution_count": 6,
     "metadata": {},
     "output_type": "execute_result"
    },
    {
     "data": {
      "image/png": "[encoded data removed]",
      "text/plain": [
       "<Figure size 432x288 with 1 Axes>"
      ]
     },
     "metadata": {
      "needs_background": "light"
     },
     "output_type": "display_data"
    }
   ],
   "source": [
    "plt.imshow(X_train[152])"
   ]
  },
  {
   "cell_type": "code",
   "execution_count": 7,
   "metadata": {},
   "outputs": [],
   "source": [
    "#preprocessamento\n",
    "X_train = X_train/255\n",
    "X_test = X_test/255\n",
    "X_valid = X_valid/255"
   ]
  },
  {
   "cell_type": "markdown",
   "metadata": {},
   "source": [
    "#### Criando e treinando  o autoencoder"
   ]
  },
  {
   "cell_type": "code",
   "execution_count": 31,
   "metadata": {},
   "outputs": [],
   "source": [
    "autoencoder = tf.keras.models.Sequential()\n",
    "\n",
    "# Encoder\n",
    "autoencoder.add(tf.keras.layers.Conv2D(64, (3,3), strides=1, padding=\"same\", input_shape=(32, 32, 3)))\n",
    "autoencoder.add(tf.keras.layers.BatchNormalization())\n",
    "autoencoder.add(tf.keras.layers.Activation('relu'))\n",
    "autoencoder.add(tf.keras.layers.AveragePooling2D((2,2), padding=\"same\"))\n",
    "\n",
    "autoencoder.add(tf.keras.layers.Conv2D(32, (3,3), strides=1, padding=\"same\"))\n",
    "autoencoder.add(tf.keras.layers.BatchNormalization())\n",
    "autoencoder.add(tf.keras.layers.Activation('relu'))\n",
    "autoencoder.add(tf.keras.layers.AveragePooling2D((2,2), padding=\"same\"))\n",
    "\n",
    "autoencoder.add(tf.keras.layers.Conv2D(16, (3,3), strides=1, padding=\"same\"))\n",
    "autoencoder.add(tf.keras.layers.BatchNormalization())\n",
    "autoencoder.add(tf.keras.layers.Activation('relu'))\n",
    "\n",
    "# Encoded image (Code Layer)\n",
    "autoencoder.add(tf.keras.layers.AveragePooling2D((2,2), padding=\"same\")) \n",
    "\n",
    "# Decoder\n",
    "autoencoder.add(tf.keras.layers.Conv2D(16, (3,3), strides=1, padding=\"same\"))\n",
    "autoencoder.add(tf.keras.layers.BatchNormalization())\n",
    "autoencoder.add(tf.keras.layers.Activation('relu'))\n",
    "autoencoder.add(tf.keras.layers.UpSampling2D((2, 2)))\n",
    "\n",
    "autoencoder.add(tf.keras.layers.Conv2D(32, (3,3), strides=1, padding=\"same\"))\n",
    "autoencoder.add(tf.keras.layers.BatchNormalization())\n",
    "autoencoder.add(tf.keras.layers.Activation('relu'))\n",
    "autoencoder.add(tf.keras.layers.UpSampling2D((2, 2)))\n",
    "\n",
    "autoencoder.add(tf.keras.layers.Conv2D(64, (3,3), strides=1, padding=\"same\"))\n",
    "autoencoder.add(tf.keras.layers.BatchNormalization())\n",
    "autoencoder.add(tf.keras.layers.Activation('relu'))\n",
    "autoencoder.add(tf.keras.layers.UpSampling2D((2, 2)))\n",
    "\n",
    "autoencoder.add(tf.keras.layers.Conv2D(3, (3,3), strides=1, activation='sigmoid', padding=\"same\"))"
   ]
  },
  {
   "cell_type": "code",
   "execution_count": 34,
   "metadata": {},
   "outputs": [
    {
     "name": "stdout",
     "output_type": "stream",
     "text": [
      "Model: \"sequential_8\"\n",
      "_________________________________________________________________\n",
      "Layer (type)                 Output Shape              Param #   \n",
      "=================================================================\n",
      "conv2d_56 (Conv2D)           (None, 32, 32, 64)        1792      \n",
      "_________________________________________________________________\n",
      "batch_normalization_48 (Batc (None, 32, 32, 64)        256       \n",
      "_________________________________________________________________\n",
      "activation_48 (Activation)   (None, 32, 32, 64)        0         \n",
      "_________________________________________________________________\n",
      "average_pooling2d_24 (Averag (None, 16, 16, 64)        0         \n",
      "_________________________________________________________________\n",
      "conv2d_57 (Conv2D)           (None, 16, 16, 32)        18464     \n",
      "_________________________________________________________________\n",
      "batch_normalization_49 (Batc (None, 16, 16, 32)        128       \n",
      "_________________________________________________________________\n",
      "activation_49 (Activation)   (None, 16, 16, 32)        0         \n",
      "_________________________________________________________________\n",
      "average_pooling2d_25 (Averag (None, 8, 8, 32)          0         \n",
      "_________________________________________________________________\n",
      "conv2d_58 (Conv2D)           (None, 8, 8, 16)          4624      \n",
      "_________________________________________________________________\n",
      "batch_normalization_50 (Batc (None, 8, 8, 16)          64        \n",
      "_________________________________________________________________\n",
      "activation_50 (Activation)   (None, 8, 8, 16)          0         \n",
      "_________________________________________________________________\n",
      "average_pooling2d_26 (Averag (None, 4, 4, 16)          0         \n",
      "_________________________________________________________________\n",
      "conv2d_59 (Conv2D)           (None, 4, 4, 16)          2320      \n",
      "_________________________________________________________________\n",
      "batch_normalization_51 (Batc (None, 4, 4, 16)          64        \n",
      "_________________________________________________________________\n",
      "activation_51 (Activation)   (None, 4, 4, 16)          0         \n",
      "_________________________________________________________________\n",
      "up_sampling2d_24 (UpSampling (None, 8, 8, 16)          0         \n",
      "_________________________________________________________________\n",
      "conv2d_60 (Conv2D)           (None, 8, 8, 32)          4640      \n",
      "_________________________________________________________________\n",
      "batch_normalization_52 (Batc (None, 8, 8, 32)          128       \n",
      "_________________________________________________________________\n",
      "activation_52 (Activation)   (None, 8, 8, 32)          0         \n",
      "_________________________________________________________________\n",
      "up_sampling2d_25 (UpSampling (None, 16, 16, 32)        0         \n",
      "_________________________________________________________________\n",
      "conv2d_61 (Conv2D)           (None, 16, 16, 64)        18496     \n",
      "_________________________________________________________________\n",
      "batch_normalization_53 (Batc (None, 16, 16, 64)        256       \n",
      "_________________________________________________________________\n",
      "activation_53 (Activation)   (None, 16, 16, 64)        0         \n",
      "_________________________________________________________________\n",
      "up_sampling2d_26 (UpSampling (None, 32, 32, 64)        0         \n",
      "_________________________________________________________________\n",
      "conv2d_62 (Conv2D)           (None, 32, 32, 3)         1731      \n",
      "=================================================================\n",
      "Total params: 52,963\n",
      "Trainable params: 52,515\n",
      "Non-trainable params: 448\n",
      "_________________________________________________________________\n"
     ]
    }
   ],
   "source": [
    "autoencoder.compile(loss='binary_crossentropy', optimizer=tf.keras.optimizers.Adam(lr=0.01))\n",
    "autoencoder.summary()"
   ]
  },
  {
   "cell_type": "code",
   "execution_count": null,
   "metadata": {},
   "outputs": [],
   "source": [
    "autoencoder.fit(X_train,          \n",
    "          X_train, \n",
    "          epochs=20, \n",
    "          batch_size=200, \n",
    "          validation_data=(X_test, X_test))"
   ]
  },
  {
   "cell_type": "code",
   "execution_count": null,
   "metadata": {},
   "outputs": [],
   "source": [
    "predicted = autoencoder.predict(X_test[:10].reshape(-1, 32, 32, 3))"
   ]
  },
  {
   "cell_type": "code",
   "execution_count": null,
   "metadata": {},
   "outputs": [],
   "source": [
    "fig, axes = plt.subplots(nrows=2, ncols=10, sharex=True, sharey=True, figsize=(20,4))\n",
    "for images, row in zip([X_test[:10], predicted], axes):\n",
    "    for img, ax in zip(images, row):\n",
    "        ax.imshow(img.reshape((32, 32, 3)))\n",
    "        ax.get_xaxis().set_visible(False)\n",
    "        ax.get_yaxis().set_visible(False)"
   ]
  },
  {
   "cell_type": "code",
   "execution_count": 27,
   "metadata": {},
   "outputs": [
    {
     "data": {
      "text/plain": [
       "((4410, 32, 32, 3), (12630, 32, 32, 3), (34799, 32, 32, 3))"
      ]
     },
     "execution_count": 27,
     "metadata": {},
     "output_type": "execute_result"
    }
   ],
   "source": [
    "X_valid.shape, X_test.shape, X_train.shape"
   ]
  },
  {
   "cell_type": "code",
   "execution_count": null,
   "metadata": {},
   "outputs": [],
   "source": []
  }
 ],
 "metadata": {
  "kernelspec": {
   "display_name": "Python 3",
   "language": "python",
   "name": "python3"
  },
  "language_info": {
   "codemirror_mode": {
    "name": "ipython",
    "version": 3
   },
   "file_extension": ".py",
   "mimetype": "text/x-python",
   "name": "python",
   "nbconvert_exporter": "python",
   "pygments_lexer": "ipython3",
   "version": "3.8.5"
  }
 },
 "nbformat": 4,
 "nbformat_minor": 4
}
