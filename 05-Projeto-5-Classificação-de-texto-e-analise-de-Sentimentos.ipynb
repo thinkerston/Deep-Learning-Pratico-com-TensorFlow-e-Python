{
 "cells": [
  {
   "cell_type": "markdown",
   "metadata": {},
   "source": [
    "# Projeto 5: Classificação de texto e analise de Sentimentos"
   ]
  },
  {
   "cell_type": "code",
   "execution_count": 1,
   "metadata": {},
   "outputs": [],
   "source": [
    "import tensorflow as tf\n",
    "import pandas as pd\n",
    "import numpy as np\n",
    "import matplotlib.pyplot as plt\n"
   ]
  },
  {
   "cell_type": "code",
   "execution_count": 102,
   "metadata": {},
   "outputs": [],
   "source": [
    "import seaborn as sns"
   ]
  },
  {
   "cell_type": "code",
   "execution_count": 2,
   "metadata": {},
   "outputs": [],
   "source": [
    "plt.style.use('seaborn')"
   ]
  },
  {
   "cell_type": "code",
   "execution_count": 4,
   "metadata": {},
   "outputs": [
    {
     "data": {
      "text/html": [
       "<div>\n",
       "<style scoped>\n",
       "    .dataframe tbody tr th:only-of-type {\n",
       "        vertical-align: middle;\n",
       "    }\n",
       "\n",
       "    .dataframe tbody tr th {\n",
       "        vertical-align: top;\n",
       "    }\n",
       "\n",
       "    .dataframe thead th {\n",
       "        text-align: right;\n",
       "    }\n",
       "</style>\n",
       "<table border=\"1\" class=\"dataframe\">\n",
       "  <thead>\n",
       "    <tr style=\"text-align: right;\">\n",
       "      <th></th>\n",
       "      <th>rating</th>\n",
       "      <th>date</th>\n",
       "      <th>variation</th>\n",
       "      <th>verified_reviews</th>\n",
       "      <th>feedback</th>\n",
       "    </tr>\n",
       "  </thead>\n",
       "  <tbody>\n",
       "    <tr>\n",
       "      <th>0</th>\n",
       "      <td>5</td>\n",
       "      <td>31-Jul-18</td>\n",
       "      <td>Charcoal Fabric</td>\n",
       "      <td>Love my Echo!</td>\n",
       "      <td>1</td>\n",
       "    </tr>\n",
       "    <tr>\n",
       "      <th>1</th>\n",
       "      <td>5</td>\n",
       "      <td>31-Jul-18</td>\n",
       "      <td>Charcoal Fabric</td>\n",
       "      <td>Loved it!</td>\n",
       "      <td>1</td>\n",
       "    </tr>\n",
       "    <tr>\n",
       "      <th>2</th>\n",
       "      <td>4</td>\n",
       "      <td>31-Jul-18</td>\n",
       "      <td>Walnut Finish</td>\n",
       "      <td>Sometimes while playing a game, you can answer...</td>\n",
       "      <td>1</td>\n",
       "    </tr>\n",
       "    <tr>\n",
       "      <th>3</th>\n",
       "      <td>5</td>\n",
       "      <td>31-Jul-18</td>\n",
       "      <td>Charcoal Fabric</td>\n",
       "      <td>I have had a lot of fun with this thing. My 4 ...</td>\n",
       "      <td>1</td>\n",
       "    </tr>\n",
       "    <tr>\n",
       "      <th>4</th>\n",
       "      <td>5</td>\n",
       "      <td>31-Jul-18</td>\n",
       "      <td>Charcoal Fabric</td>\n",
       "      <td>Music</td>\n",
       "      <td>1</td>\n",
       "    </tr>\n",
       "  </tbody>\n",
       "</table>\n",
       "</div>"
      ],
      "text/plain": [
       "   rating       date         variation  \\\n",
       "0       5  31-Jul-18  Charcoal Fabric    \n",
       "1       5  31-Jul-18  Charcoal Fabric    \n",
       "2       4  31-Jul-18    Walnut Finish    \n",
       "3       5  31-Jul-18  Charcoal Fabric    \n",
       "4       5  31-Jul-18  Charcoal Fabric    \n",
       "\n",
       "                                    verified_reviews  feedback  \n",
       "0                                      Love my Echo!         1  \n",
       "1                                          Loved it!         1  \n",
       "2  Sometimes while playing a game, you can answer...         1  \n",
       "3  I have had a lot of fun with this thing. My 4 ...         1  \n",
       "4                                              Music         1  "
      ]
     },
     "execution_count": 4,
     "metadata": {},
     "output_type": "execute_result"
    }
   ],
   "source": [
    "alexa = pd.read_csv('datasets/amazon-alexa.tsv', sep='\\t')\n",
    "alexa.head()"
   ]
  },
  {
   "cell_type": "code",
   "execution_count": 8,
   "metadata": {},
   "outputs": [],
   "source": [
    "alexa = alexa.drop('date', axis=1)\n"
   ]
  },
  {
   "cell_type": "code",
   "execution_count": 35,
   "metadata": {},
   "outputs": [],
   "source": [
    "from sklearn.model_selection import train_test_split\n",
    "\n",
    "X_train, X_test, y_train, y_test = train_test_split(alexa.drop(['feedback'], axis=1), alexa['feedback'], \n",
    "                                                    test_size=.3, random_state=21)"
   ]
  },
  {
   "cell_type": "code",
   "execution_count": 42,
   "metadata": {},
   "outputs": [],
   "source": [
    "from sklearn.preprocessing import OneHotEncoder\n",
    "\n",
    "ohe_variation = OneHotEncoder()\n",
    "variation_train_array_dummy = ohe_variation.fit_transform(X_train['variation'].values.reshape(-1, 1))\n",
    "\n",
    "variation_test_array_dummy = ohe_variation.transform(X_test['variation'].values.reshape(-1, 1))\n",
    "\n",
    "variation_train_array_dummy = pd.DataFrame(columns=ohe_variation.get_feature_names(),\n",
    "                                           data=variation_train_array_dummy.toarray())\n",
    "\n",
    "variation_test_array_dummy = pd.DataFrame(columns=ohe_variation.get_feature_names(),\n",
    "                                           data=variation_test_array_dummy.toarray())\n",
    "\n"
   ]
  },
  {
   "cell_type": "code",
   "execution_count": 44,
   "metadata": {},
   "outputs": [],
   "source": [
    "from sklearn.feature_extraction.text import CountVectorizer, ENGLISH_STOP_WORDS, TfidfVectorizer"
   ]
  },
  {
   "cell_type": "code",
   "execution_count": 69,
   "metadata": {},
   "outputs": [],
   "source": [
    "ct_vect_review = CountVectorizer(stop_words=ENGLISH_STOP_WORDS)\n",
    "reviews_train_vect = ct_vect_review.fit_transform(X_train['verified_reviews'])\n",
    "\n",
    "reviews_test_vect = ct_vect_review.transform(X_test['verified_reviews'])\n",
    "\n",
    "reviews_train_vect = pd.DataFrame(columns=ct_vect_review.get_feature_names(), \n",
    "                                  data = reviews_train_vect.toarray())\n",
    "\n",
    "reviews_test_vect = pd.DataFrame(columns=ct_vect_review.get_feature_names(), data=reviews_test_vect.toarray())\n"
   ]
  },
  {
   "cell_type": "code",
   "execution_count": 70,
   "metadata": {},
   "outputs": [],
   "source": [
    "X_train_final  =  pd.concat([reviews_train_vect, variation_train_array_dummy], axis=1)\n",
    "X_test_final  =  pd.concat([reviews_test_vect, variation_test_array_dummy], axis=1)"
   ]
  },
  {
   "cell_type": "code",
   "execution_count": 72,
   "metadata": {},
   "outputs": [
    {
     "data": {
      "text/plain": [
       "((945, 3234), (2205, 3234))"
      ]
     },
     "execution_count": 72,
     "metadata": {},
     "output_type": "execute_result"
    }
   ],
   "source": [
    "X_test_final.shape, X_train_final.shape"
   ]
  },
  {
   "cell_type": "code",
   "execution_count": 74,
   "metadata": {},
   "outputs": [],
   "source": [
    "from sklearn.ensemble import RandomForestClassifier\n",
    "\n",
    "rfc = RandomForestClassifier()\n",
    "rfc.fit(X_train_final, y_train)\n",
    "pred = rfc.predict(X_test_final)"
   ]
  },
  {
   "cell_type": "code",
   "execution_count": 91,
   "metadata": {},
   "outputs": [],
   "source": [
    "from sklearn.metrics import confusion_matrix, classification_report, accuracy_score"
   ]
  },
  {
   "cell_type": "code",
   "execution_count": 77,
   "metadata": {},
   "outputs": [
    {
     "data": {
      "text/plain": [
       "array([[ 21,  60],\n",
       "       [ 15, 849]])"
      ]
     },
     "execution_count": 77,
     "metadata": {},
     "output_type": "execute_result"
    }
   ],
   "source": [
    "confusion_matrix(y_test, pred)"
   ]
  },
  {
   "cell_type": "code",
   "execution_count": 92,
   "metadata": {},
   "outputs": [
    {
     "data": {
      "text/plain": [
       "0.9206349206349206"
      ]
     },
     "execution_count": 92,
     "metadata": {},
     "output_type": "execute_result"
    }
   ],
   "source": [
    "accuracy_score(y_test, pred)"
   ]
  },
  {
   "cell_type": "code",
   "execution_count": 93,
   "metadata": {
    "scrolled": true
   },
   "outputs": [
    {
     "name": "stdout",
     "output_type": "stream",
     "text": [
      "              precision    recall  f1-score   support\n",
      "\n",
      "           0       0.58      0.26      0.36        81\n",
      "           1       0.93      0.98      0.96       864\n",
      "\n",
      "    accuracy                           0.92       945\n",
      "   macro avg       0.76      0.62      0.66       945\n",
      "weighted avg       0.90      0.92      0.91       945\n",
      "\n"
     ]
    }
   ],
   "source": [
    "print(classification_report(y_test, pred))"
   ]
  },
  {
   "cell_type": "markdown",
   "metadata": {},
   "source": [
    "# criando o modelo"
   ]
  },
  {
   "cell_type": "code",
   "execution_count": 123,
   "metadata": {},
   "outputs": [],
   "source": [
    "model = tf.keras.models.Sequential()\n",
    "model.add(tf.keras.layers.Dense(units=400, activation='relu', input_shape=(3234,)))\n",
    "model.add(tf.keras.layers.Dense(units=400, activation='relu'))\n",
    "model.add(tf.keras.layers.Dropout(0.5))\n",
    "model.add(tf.keras.layers.Dense(units=800, activation='relu'))\n",
    "model.add(tf.keras.layers.Dense(units=1200, activation='relu'))\n",
    "model.add(tf.keras.layers.Dropout(0.5))\n",
    "model.add(tf.keras.layers.Dense(units=400, activation='relu'))\n",
    "model.add(tf.keras.layers.Dense(units=1, activation='sigmoid'))\n",
    "\n"
   ]
  },
  {
   "cell_type": "code",
   "execution_count": 124,
   "metadata": {},
   "outputs": [
    {
     "name": "stdout",
     "output_type": "stream",
     "text": [
      "Model: \"sequential_6\"\n",
      "_________________________________________________________________\n",
      "Layer (type)                 Output Shape              Param #   \n",
      "=================================================================\n",
      "dense_15 (Dense)             (None, 400)               1294000   \n",
      "_________________________________________________________________\n",
      "dense_16 (Dense)             (None, 400)               160400    \n",
      "_________________________________________________________________\n",
      "dropout_2 (Dropout)          (None, 400)               0         \n",
      "_________________________________________________________________\n",
      "dense_17 (Dense)             (None, 800)               320800    \n",
      "_________________________________________________________________\n",
      "dense_18 (Dense)             (None, 1200)              961200    \n",
      "_________________________________________________________________\n",
      "dropout_3 (Dropout)          (None, 1200)              0         \n",
      "_________________________________________________________________\n",
      "dense_19 (Dense)             (None, 400)               480400    \n",
      "_________________________________________________________________\n",
      "dense_20 (Dense)             (None, 1)                 401       \n",
      "=================================================================\n",
      "Total params: 3,217,201\n",
      "Trainable params: 3,217,201\n",
      "Non-trainable params: 0\n",
      "_________________________________________________________________\n"
     ]
    }
   ],
   "source": [
    "model.summary()"
   ]
  },
  {
   "cell_type": "code",
   "execution_count": 125,
   "metadata": {},
   "outputs": [],
   "source": [
    "model.compile(optimizer='Adam', loss='binary_crossentropy', metrics=['accuracy'])"
   ]
  },
  {
   "cell_type": "code",
   "execution_count": 126,
   "metadata": {},
   "outputs": [
    {
     "name": "stdout",
     "output_type": "stream",
     "text": [
      "Epoch 1/30\n",
      "69/69 [==============================] - 1s 14ms/step - loss: 0.2825 - accuracy: 0.9116\n",
      "Epoch 2/30\n",
      "69/69 [==============================] - 1s 14ms/step - loss: 0.0914 - accuracy: 0.9624\n",
      "Epoch 3/30\n",
      "69/69 [==============================] - 1s 14ms/step - loss: 0.0358 - accuracy: 0.9887\n",
      "Epoch 4/30\n",
      "69/69 [==============================] - 1s 14ms/step - loss: 0.0210 - accuracy: 0.9932\n",
      "Epoch 5/30\n",
      "69/69 [==============================] - 1s 14ms/step - loss: 0.0130 - accuracy: 0.9959\n",
      "Epoch 6/30\n",
      "69/69 [==============================] - 1s 14ms/step - loss: 0.0114 - accuracy: 0.9955\n",
      "Epoch 7/30\n",
      "69/69 [==============================] - 1s 14ms/step - loss: 0.0092 - accuracy: 0.9959\n",
      "Epoch 8/30\n",
      "69/69 [==============================] - 1s 14ms/step - loss: 0.0127 - accuracy: 0.9959\n",
      "Epoch 9/30\n",
      "69/69 [==============================] - 1s 14ms/step - loss: 0.0106 - accuracy: 0.9968\n",
      "Epoch 10/30\n",
      "69/69 [==============================] - 1s 14ms/step - loss: 0.0087 - accuracy: 0.9955\n",
      "Epoch 11/30\n",
      "69/69 [==============================] - 1s 14ms/step - loss: 0.0092 - accuracy: 0.9959\n",
      "Epoch 12/30\n",
      "69/69 [==============================] - 1s 14ms/step - loss: 0.0089 - accuracy: 0.9964\n",
      "Epoch 13/30\n",
      "69/69 [==============================] - 1s 14ms/step - loss: 0.0075 - accuracy: 0.9964\n",
      "Epoch 14/30\n",
      "69/69 [==============================] - 1s 15ms/step - loss: 0.0072 - accuracy: 0.9968\n",
      "Epoch 15/30\n",
      "69/69 [==============================] - 1s 14ms/step - loss: 0.0070 - accuracy: 0.9968\n",
      "Epoch 16/30\n",
      "69/69 [==============================] - 1s 14ms/step - loss: 0.0109 - accuracy: 0.9968\n",
      "Epoch 17/30\n",
      "69/69 [==============================] - 1s 14ms/step - loss: 0.0095 - accuracy: 0.9959\n",
      "Epoch 18/30\n",
      "69/69 [==============================] - 1s 15ms/step - loss: 0.0088 - accuracy: 0.9968\n",
      "Epoch 19/30\n",
      "69/69 [==============================] - 1s 14ms/step - loss: 0.0092 - accuracy: 0.9959\n",
      "Epoch 20/30\n",
      "69/69 [==============================] - 1s 14ms/step - loss: 0.0085 - accuracy: 0.9959\n",
      "Epoch 21/30\n",
      "69/69 [==============================] - 1s 14ms/step - loss: 0.0076 - accuracy: 0.9959\n",
      "Epoch 22/30\n",
      "69/69 [==============================] - 1s 14ms/step - loss: 0.0101 - accuracy: 0.9964\n",
      "Epoch 23/30\n",
      "69/69 [==============================] - 1s 14ms/step - loss: 0.0087 - accuracy: 0.9955\n",
      "Epoch 24/30\n",
      "69/69 [==============================] - 1s 14ms/step - loss: 0.0073 - accuracy: 0.9964\n",
      "Epoch 25/30\n",
      "69/69 [==============================] - 1s 14ms/step - loss: 0.0074 - accuracy: 0.9977\n",
      "Epoch 26/30\n",
      "69/69 [==============================] - 1s 14ms/step - loss: 0.0061 - accuracy: 0.9959\n",
      "Epoch 27/30\n",
      "69/69 [==============================] - 1s 13ms/step - loss: 0.0126 - accuracy: 0.9959\n",
      "Epoch 28/30\n",
      "69/69 [==============================] - 1s 13ms/step - loss: 0.0079 - accuracy: 0.9955\n",
      "Epoch 29/30\n",
      "69/69 [==============================] - 1s 14ms/step - loss: 0.0070 - accuracy: 0.9964\n",
      "Epoch 30/30\n",
      "69/69 [==============================] - 1s 13ms/step - loss: 0.0066 - accuracy: 0.9973\n"
     ]
    }
   ],
   "source": [
    "epochs_hist = model.fit(X_train_final, y_train, epochs=30)"
   ]
  },
  {
   "cell_type": "code",
   "execution_count": 127,
   "metadata": {},
   "outputs": [],
   "source": [
    "pred_tf = model.predict(X_test_final)\n",
    "pred_tf = (pred_tf > 0.5)"
   ]
  },
  {
   "cell_type": "code",
   "execution_count": 128,
   "metadata": {},
   "outputs": [],
   "source": [
    "cm_tf = confusion_matrix(y_test, pred_tf)\n",
    "cm_rfc = confusion_matrix(y_test, pred)"
   ]
  },
  {
   "cell_type": "code",
   "execution_count": 129,
   "metadata": {},
   "outputs": [
    {
     "data": {
      "text/plain": [
       "array([[ 21,  60],\n",
       "       [ 15, 849]])"
      ]
     },
     "execution_count": 129,
     "metadata": {},
     "output_type": "execute_result"
    }
   ],
   "source": [
    "cm_rfc"
   ]
  },
  {
   "cell_type": "code",
   "execution_count": 130,
   "metadata": {},
   "outputs": [
    {
     "data": {
      "text/plain": [
       "array([[ 29,  52],\n",
       "       [ 14, 850]])"
      ]
     },
     "execution_count": 130,
     "metadata": {},
     "output_type": "execute_result"
    }
   ],
   "source": [
    "cm_tf"
   ]
  },
  {
   "cell_type": "code",
   "execution_count": 131,
   "metadata": {},
   "outputs": [
    {
     "data": {
      "text/plain": [
       "[<matplotlib.lines.Line2D at 0x7f179c0b1f40>]"
      ]
     },
     "execution_count": 131,
     "metadata": {},
     "output_type": "execute_result"
    },
    {
     "data": {
      "image/png": "[encoded data removed]",
      "text/plain": [
       "<Figure size 576x396 with 1 Axes>"
      ]
     },
     "metadata": {},
     "output_type": "display_data"
    }
   ],
   "source": [
    "plt.plot(epochs_hist.history['loss'])"
   ]
  },
  {
   "cell_type": "code",
   "execution_count": null,
   "metadata": {},
   "outputs": [],
   "source": []
  },
  {
   "cell_type": "code",
   "execution_count": null,
   "metadata": {},
   "outputs": [],
   "source": []
  },
  {
   "cell_type": "code",
   "execution_count": null,
   "metadata": {},
   "outputs": [],
   "source": []
  }
 ],
 "metadata": {
  "kernelspec": {
   "display_name": "Python 3",
   "language": "python",
   "name": "python3"
  },
  "language_info": {
   "codemirror_mode": {
    "name": "ipython",
    "version": 3
   },
   "file_extension": ".py",
   "mimetype": "text/x-python",
   "name": "python",
   "nbconvert_exporter": "python",
   "pygments_lexer": "ipython3",
   "version": "3.8.6"
  }
 },
 "nbformat": 4,
 "nbformat_minor": 4
}
