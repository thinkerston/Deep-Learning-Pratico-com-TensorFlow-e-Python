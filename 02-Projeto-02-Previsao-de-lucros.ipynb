{
 "cells": [
  {
   "cell_type": "markdown",
   "metadata": {},
   "source": [
    "# Previsão de lucros\n"
   ]
  },
  {
   "cell_type": "markdown",
   "metadata": {},
   "source": [
    "### importação das bibliotecas"
   ]
  },
  {
   "cell_type": "code",
   "execution_count": 1,
   "metadata": {},
   "outputs": [],
   "source": [
    "import tensorflow as tf\n",
    "import pandas as pd\n",
    "import numpy as np\n",
    "\n",
    "import matplotlib.pyplot as plt\n",
    "import seaborn as sns\n",
    "\n",
    "plt.style.use('seaborn')"
   ]
  },
  {
   "cell_type": "markdown",
   "metadata": {},
   "source": [
    "### leitura do arquivo\n"
   ]
  },
  {
   "cell_type": "code",
   "execution_count": 2,
   "metadata": {},
   "outputs": [
    {
     "data": {
      "text/html": [
       "<div>\n",
       "<style scoped>\n",
       "    .dataframe tbody tr th:only-of-type {\n",
       "        vertical-align: middle;\n",
       "    }\n",
       "\n",
       "    .dataframe tbody tr th {\n",
       "        vertical-align: top;\n",
       "    }\n",
       "\n",
       "    .dataframe thead th {\n",
       "        text-align: right;\n",
       "    }\n",
       "</style>\n",
       "<table border=\"1\" class=\"dataframe\">\n",
       "  <thead>\n",
       "    <tr style=\"text-align: right;\">\n",
       "      <th></th>\n",
       "      <th>Temperature</th>\n",
       "      <th>Revenue</th>\n",
       "    </tr>\n",
       "  </thead>\n",
       "  <tbody>\n",
       "    <tr>\n",
       "      <th>0</th>\n",
       "      <td>24.566884</td>\n",
       "      <td>534.799028</td>\n",
       "    </tr>\n",
       "    <tr>\n",
       "      <th>1</th>\n",
       "      <td>26.005191</td>\n",
       "      <td>625.190122</td>\n",
       "    </tr>\n",
       "    <tr>\n",
       "      <th>2</th>\n",
       "      <td>27.790554</td>\n",
       "      <td>660.632289</td>\n",
       "    </tr>\n",
       "    <tr>\n",
       "      <th>3</th>\n",
       "      <td>20.595335</td>\n",
       "      <td>487.706960</td>\n",
       "    </tr>\n",
       "    <tr>\n",
       "      <th>4</th>\n",
       "      <td>11.503498</td>\n",
       "      <td>316.240194</td>\n",
       "    </tr>\n",
       "  </tbody>\n",
       "</table>\n",
       "</div>"
      ],
      "text/plain": [
       "   Temperature     Revenue\n",
       "0    24.566884  534.799028\n",
       "1    26.005191  625.190122\n",
       "2    27.790554  660.632289\n",
       "3    20.595335  487.706960\n",
       "4    11.503498  316.240194"
      ]
     },
     "execution_count": 2,
     "metadata": {},
     "output_type": "execute_result"
    }
   ],
   "source": [
    "vendas_df = pd.read_csv('datasets/SalesData.csv')\n",
    "vendas_df.head()"
   ]
  },
  {
   "cell_type": "code",
   "execution_count": 3,
   "metadata": {},
   "outputs": [
    {
     "data": {
      "text/plain": [
       "<AxesSubplot:xlabel='Revenue', ylabel='Temperature'>"
      ]
     },
     "execution_count": 3,
     "metadata": {},
     "output_type": "execute_result"
    },
    {
     "data": {
      "image/png": "[encoded data removed]",
      "text/plain": [
       "<Figure size 576x396 with 1 Axes>"
      ]
     },
     "metadata": {},
     "output_type": "display_data"
    }
   ],
   "source": [
    "sns.scatterplot(x='Revenue', y='Temperature', data=vendas_df)"
   ]
  },
  {
   "cell_type": "markdown",
   "metadata": {},
   "source": [
    "### Criação das variaveis da base de dados\n"
   ]
  },
  {
   "cell_type": "code",
   "execution_count": 4,
   "metadata": {},
   "outputs": [],
   "source": [
    "X_train, y_train = vendas_df['Temperature'], vendas_df['Revenue']"
   ]
  },
  {
   "cell_type": "code",
   "execution_count": 6,
   "metadata": {},
   "outputs": [
    {
     "data": {
      "text/plain": [
       "((500,), (500,))"
      ]
     },
     "execution_count": 6,
     "metadata": {},
     "output_type": "execute_result"
    }
   ],
   "source": [
    "X_train.shape, y_train.shape"
   ]
  },
  {
   "cell_type": "markdown",
   "metadata": {},
   "source": [
    "### Criando o modelo"
   ]
  },
  {
   "cell_type": "code",
   "execution_count": 7,
   "metadata": {},
   "outputs": [],
   "source": [
    "model = tf.keras.Sequential()\n",
    "model.add(tf.keras.layers.Dense(units=1, input_shape=[1]))\n",
    "#model.add(tf.keras.layers.Dense(units=1))\n",
    "#model.add(tf.keras.layers.Dense(units=1))"
   ]
  },
  {
   "cell_type": "code",
   "execution_count": 8,
   "metadata": {},
   "outputs": [
    {
     "name": "stdout",
     "output_type": "stream",
     "text": [
      "Model: \"sequential\"\n",
      "_________________________________________________________________\n",
      "Layer (type)                 Output Shape              Param #   \n",
      "=================================================================\n",
      "dense (Dense)                (None, 1)                 2         \n",
      "=================================================================\n",
      "Total params: 2\n",
      "Trainable params: 2\n",
      "Non-trainable params: 0\n",
      "_________________________________________________________________\n"
     ]
    }
   ],
   "source": [
    "model.summary()"
   ]
  },
  {
   "cell_type": "code",
   "execution_count": 9,
   "metadata": {},
   "outputs": [],
   "source": [
    "model.compile(optimizer= tf.keras.optimizers.Adam(0.1), loss='mean_squared_error')"
   ]
  },
  {
   "cell_type": "code",
   "execution_count": 10,
   "metadata": {},
   "outputs": [
    {
     "name": "stdout",
     "output_type": "stream",
     "text": [
      "Epoch 1/100\n",
      "16/16 [==============================] - 0s 2ms/step - loss: 288455.7812\n",
      "Epoch 2/100\n",
      "16/16 [==============================] - 0s 1ms/step - loss: 248060.3594\n",
      "Epoch 3/100\n",
      "16/16 [==============================] - 0s 1ms/step - loss: 212156.8594\n",
      "Epoch 4/100\n",
      "16/16 [==============================] - 0s 2ms/step - loss: 179990.7812\n",
      "Epoch 5/100\n",
      "16/16 [==============================] - 0s 2ms/step - loss: 151576.4062\n",
      "Epoch 6/100\n",
      "16/16 [==============================] - 0s 2ms/step - loss: 126889.7031\n",
      "Epoch 7/100\n",
      "16/16 [==============================] - 0s 1ms/step - loss: 105576.7344\n",
      "Epoch 8/100\n",
      "16/16 [==============================] - 0s 1ms/step - loss: 87117.6094\n",
      "Epoch 9/100\n",
      "16/16 [==============================] - 0s 1ms/step - loss: 71463.7266\n",
      "Epoch 10/100\n",
      "16/16 [==============================] - 0s 1ms/step - loss: 58069.7773\n",
      "Epoch 11/100\n",
      "16/16 [==============================] - 0s 2ms/step - loss: 46896.0703\n",
      "Epoch 12/100\n",
      "16/16 [==============================] - 0s 2ms/step - loss: 37602.8320\n",
      "Epoch 13/100\n",
      "16/16 [==============================] - 0s 1ms/step - loss: 29848.8770\n",
      "Epoch 14/100\n",
      "16/16 [==============================] - 0s 1ms/step - loss: 23642.0742\n",
      "Epoch 15/100\n",
      "16/16 [==============================] - 0s 2ms/step - loss: 18549.3594\n",
      "Epoch 16/100\n",
      "16/16 [==============================] - 0s 1ms/step - loss: 14438.6475\n",
      "Epoch 17/100\n",
      "16/16 [==============================] - 0s 1ms/step - loss: 11188.0850\n",
      "Epoch 18/100\n",
      "16/16 [==============================] - 0s 1ms/step - loss: 8636.2051\n",
      "Epoch 19/100\n",
      "16/16 [==============================] - 0s 1ms/step - loss: 6653.8569\n",
      "Epoch 20/100\n",
      "16/16 [==============================] - 0s 2ms/step - loss: 5106.3945\n",
      "Epoch 21/100\n",
      "16/16 [==============================] - 0s 1ms/step - loss: 3945.6008\n",
      "Epoch 22/100\n",
      "16/16 [==============================] - 0s 2ms/step - loss: 3068.0269\n",
      "Epoch 23/100\n",
      "16/16 [==============================] - 0s 1ms/step - loss: 2397.3015\n",
      "Epoch 24/100\n",
      "16/16 [==============================] - 0s 1ms/step - loss: 1913.4648\n",
      "Epoch 25/100\n",
      "16/16 [==============================] - 0s 1ms/step - loss: 1555.6730\n",
      "Epoch 26/100\n",
      "16/16 [==============================] - 0s 1ms/step - loss: 1292.0308\n",
      "Epoch 27/100\n",
      "16/16 [==============================] - 0s 1ms/step - loss: 1106.8077\n",
      "Epoch 28/100\n",
      "16/16 [==============================] - 0s 2ms/step - loss: 970.7880\n",
      "Epoch 29/100\n",
      "16/16 [==============================] - 0s 2ms/step - loss: 880.5380\n",
      "Epoch 30/100\n",
      "16/16 [==============================] - 0s 2ms/step - loss: 814.6627\n",
      "Epoch 31/100\n",
      "16/16 [==============================] - 0s 1ms/step - loss: 768.9713\n",
      "Epoch 32/100\n",
      "16/16 [==============================] - 0s 2ms/step - loss: 737.8568\n",
      "Epoch 33/100\n",
      "16/16 [==============================] - 0s 1ms/step - loss: 718.5748\n",
      "Epoch 34/100\n",
      "16/16 [==============================] - 0s 1ms/step - loss: 704.3337\n",
      "Epoch 35/100\n",
      "16/16 [==============================] - 0s 2ms/step - loss: 695.3813\n",
      "Epoch 36/100\n",
      "16/16 [==============================] - 0s 1ms/step - loss: 689.6747\n",
      "Epoch 37/100\n",
      "16/16 [==============================] - 0s 2ms/step - loss: 686.1725\n",
      "Epoch 38/100\n",
      "16/16 [==============================] - 0s 1ms/step - loss: 683.0291\n",
      "Epoch 39/100\n",
      "16/16 [==============================] - 0s 2ms/step - loss: 681.2192\n",
      "Epoch 40/100\n",
      "16/16 [==============================] - 0s 1ms/step - loss: 680.1765\n",
      "Epoch 41/100\n",
      "16/16 [==============================] - 0s 2ms/step - loss: 679.5463\n",
      "Epoch 42/100\n",
      "16/16 [==============================] - 0s 1ms/step - loss: 679.0151\n",
      "Epoch 43/100\n",
      "16/16 [==============================] - 0s 2ms/step - loss: 678.6357\n",
      "Epoch 44/100\n",
      "16/16 [==============================] - 0s 1ms/step - loss: 679.0966\n",
      "Epoch 45/100\n",
      "16/16 [==============================] - 0s 2ms/step - loss: 678.3817\n",
      "Epoch 46/100\n",
      "16/16 [==============================] - 0s 1ms/step - loss: 678.0662\n",
      "Epoch 47/100\n",
      "16/16 [==============================] - 0s 1ms/step - loss: 677.8254\n",
      "Epoch 48/100\n",
      "16/16 [==============================] - 0s 1ms/step - loss: 677.8578\n",
      "Epoch 49/100\n",
      "16/16 [==============================] - 0s 1ms/step - loss: 677.6884\n",
      "Epoch 50/100\n",
      "16/16 [==============================] - 0s 2ms/step - loss: 677.4601\n",
      "Epoch 51/100\n",
      "16/16 [==============================] - 0s 2ms/step - loss: 677.3165\n",
      "Epoch 52/100\n",
      "16/16 [==============================] - 0s 2ms/step - loss: 677.2062\n",
      "Epoch 53/100\n",
      "16/16 [==============================] - 0s 1ms/step - loss: 677.0829\n",
      "Epoch 54/100\n",
      "16/16 [==============================] - 0s 1ms/step - loss: 676.9388\n",
      "Epoch 55/100\n",
      "16/16 [==============================] - 0s 1ms/step - loss: 676.8192\n",
      "Epoch 56/100\n",
      "16/16 [==============================] - 0s 1ms/step - loss: 676.6649\n",
      "Epoch 57/100\n",
      "16/16 [==============================] - 0s 1ms/step - loss: 676.6060\n",
      "Epoch 58/100\n",
      "16/16 [==============================] - 0s 2ms/step - loss: 676.3783\n",
      "Epoch 59/100\n",
      "16/16 [==============================] - 0s 1ms/step - loss: 676.2483\n",
      "Epoch 60/100\n",
      "16/16 [==============================] - 0s 1ms/step - loss: 676.2742\n",
      "Epoch 61/100\n",
      "16/16 [==============================] - 0s 1ms/step - loss: 675.9625\n",
      "Epoch 62/100\n",
      "16/16 [==============================] - 0s 1ms/step - loss: 675.7688\n",
      "Epoch 63/100\n",
      "16/16 [==============================] - 0s 1ms/step - loss: 675.5693\n",
      "Epoch 64/100\n",
      "16/16 [==============================] - 0s 1ms/step - loss: 675.4644\n",
      "Epoch 65/100\n",
      "16/16 [==============================] - 0s 2ms/step - loss: 675.2706\n",
      "Epoch 66/100\n",
      "16/16 [==============================] - 0s 1ms/step - loss: 675.1179\n",
      "Epoch 67/100\n",
      "16/16 [==============================] - 0s 1ms/step - loss: 674.9998\n",
      "Epoch 68/100\n",
      "16/16 [==============================] - 0s 1ms/step - loss: 674.8943\n",
      "Epoch 69/100\n",
      "16/16 [==============================] - 0s 1ms/step - loss: 674.7770\n",
      "Epoch 70/100\n",
      "16/16 [==============================] - 0s 1ms/step - loss: 674.5909\n",
      "Epoch 71/100\n",
      "16/16 [==============================] - 0s 1ms/step - loss: 674.4619\n",
      "Epoch 72/100\n",
      "16/16 [==============================] - 0s 1ms/step - loss: 674.1987\n",
      "Epoch 73/100\n",
      "16/16 [==============================] - 0s 2ms/step - loss: 674.1209\n",
      "Epoch 74/100\n",
      "16/16 [==============================] - 0s 1ms/step - loss: 674.0451\n",
      "Epoch 75/100\n",
      "16/16 [==============================] - 0s 2ms/step - loss: 673.9033\n",
      "Epoch 76/100\n",
      "16/16 [==============================] - 0s 1ms/step - loss: 673.5755\n",
      "Epoch 77/100\n",
      "16/16 [==============================] - 0s 1ms/step - loss: 673.6069\n",
      "Epoch 78/100\n",
      "16/16 [==============================] - 0s 2ms/step - loss: 673.3383\n",
      "Epoch 79/100\n",
      "16/16 [==============================] - 0s 1ms/step - loss: 673.3694\n",
      "Epoch 80/100\n",
      "16/16 [==============================] - 0s 2ms/step - loss: 672.8024\n",
      "Epoch 81/100\n",
      "16/16 [==============================] - 0s 1ms/step - loss: 672.9758\n",
      "Epoch 82/100\n",
      "16/16 [==============================] - 0s 2ms/step - loss: 673.0415\n",
      "Epoch 83/100\n",
      "16/16 [==============================] - 0s 1ms/step - loss: 672.4512\n",
      "Epoch 84/100\n",
      "16/16 [==============================] - 0s 2ms/step - loss: 672.2377\n",
      "Epoch 85/100\n",
      "16/16 [==============================] - 0s 1ms/step - loss: 672.4136\n",
      "Epoch 86/100\n",
      "16/16 [==============================] - 0s 2ms/step - loss: 672.1305\n",
      "Epoch 87/100\n",
      "16/16 [==============================] - 0s 1ms/step - loss: 671.8455\n",
      "Epoch 88/100\n",
      "16/16 [==============================] - 0s 1ms/step - loss: 672.0737\n",
      "Epoch 89/100\n",
      "16/16 [==============================] - 0s 1ms/step - loss: 671.2135\n",
      "Epoch 90/100\n",
      "16/16 [==============================] - 0s 2ms/step - loss: 671.0846\n",
      "Epoch 91/100\n",
      "16/16 [==============================] - 0s 1ms/step - loss: 671.0229\n",
      "Epoch 92/100\n",
      "16/16 [==============================] - 0s 1ms/step - loss: 670.8535\n",
      "Epoch 93/100\n",
      "16/16 [==============================] - 0s 1ms/step - loss: 670.6688\n",
      "Epoch 94/100\n",
      "16/16 [==============================] - 0s 2ms/step - loss: 670.4214\n",
      "Epoch 95/100\n",
      "16/16 [==============================] - 0s 1ms/step - loss: 670.1970\n",
      "Epoch 96/100\n",
      "16/16 [==============================] - 0s 1ms/step - loss: 670.1306\n",
      "Epoch 97/100\n",
      "16/16 [==============================] - 0s 1ms/step - loss: 669.7938\n",
      "Epoch 98/100\n",
      "16/16 [==============================] - 0s 2ms/step - loss: 669.5076\n",
      "Epoch 99/100\n"
     ]
    },
    {
     "name": "stdout",
     "output_type": "stream",
     "text": [
      "16/16 [==============================] - 0s 1ms/step - loss: 669.5656\n",
      "Epoch 100/100\n",
      "16/16 [==============================] - 0s 1ms/step - loss: 669.0972\n"
     ]
    }
   ],
   "source": [
    "epoch_hist = model.fit(X_train, y_train, epochs=100)"
   ]
  },
  {
   "cell_type": "code",
   "execution_count": 11,
   "metadata": {},
   "outputs": [
    {
     "data": {
      "text/plain": [
       "(None, 1)"
      ]
     },
     "execution_count": 11,
     "metadata": {},
     "output_type": "execute_result"
    }
   ],
   "source": [
    "model.output_shape"
   ]
  },
  {
   "cell_type": "code",
   "execution_count": 12,
   "metadata": {},
   "outputs": [
    {
     "data": {
      "text/plain": [
       "[<matplotlib.lines.Line2D at 0x7fb05c619fd0>]"
      ]
     },
     "execution_count": 12,
     "metadata": {},
     "output_type": "execute_result"
    },
    {
     "data": {
      "image/png": "[encoded data removed]",
      "text/plain": [
       "<Figure size 576x396 with 1 Axes>"
      ]
     },
     "metadata": {},
     "output_type": "display_data"
    }
   ],
   "source": [
    "plt.plot(epoch_hist.history['loss'])"
   ]
  },
  {
   "cell_type": "code",
   "execution_count": 13,
   "metadata": {},
   "outputs": [
    {
     "data": {
      "text/plain": [
       "[array([[22.235876]], dtype=float32), array([25.026722], dtype=float32)]"
      ]
     },
     "execution_count": 13,
     "metadata": {},
     "output_type": "execute_result"
    }
   ],
   "source": [
    "model.get_weights()"
   ]
  },
  {
   "cell_type": "code",
   "execution_count": 14,
   "metadata": {},
   "outputs": [
    {
     "data": {
      "text/plain": [
       "array([[136.2061]], dtype=float32)"
      ]
     },
     "execution_count": 14,
     "metadata": {},
     "output_type": "execute_result"
    }
   ],
   "source": [
    "pred_5g = 5\n",
    "pred = model.predict([pred_5g])\n",
    "pred"
   ]
  },
  {
   "cell_type": "code",
   "execution_count": 19,
   "metadata": {},
   "outputs": [
    {
     "data": {
      "text/plain": [
       "[<matplotlib.lines.Line2D at 0x7fb0407c0ac8>]"
      ]
     },
     "execution_count": 19,
     "metadata": {},
     "output_type": "execute_result"
    },
    {
     "data": {
      "image/png": "[encoded data removed]",
      "text/plain": [
       "<Figure size 576x396 with 1 Axes>"
      ]
     },
     "metadata": {},
     "output_type": "display_data"
    }
   ],
   "source": [
    "plt.scatter(X_train, y_train)\n",
    "plt.plot(X_train, model.predict(X_train), color='red')"
   ]
  }
 ],
 "metadata": {
  "kernelspec": {
   "display_name": "Python 3",
   "language": "python",
   "name": "python3"
  },
  "language_info": {
   "codemirror_mode": {
    "name": "ipython",
    "version": 3
   },
   "file_extension": ".py",
   "mimetype": "text/x-python",
   "name": "python",
   "nbconvert_exporter": "python",
   "pygments_lexer": "ipython3",
   "version": "3.6.9"
  }
 },
 "nbformat": 4,
 "nbformat_minor": 4
}
