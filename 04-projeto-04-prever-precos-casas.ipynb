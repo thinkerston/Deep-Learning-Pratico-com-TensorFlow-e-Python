{
 "cells": [
  {
   "cell_type": "code",
   "execution_count": 1,
   "metadata": {},
   "outputs": [],
   "source": [
    "import tensorflow as tf\n",
    "import pandas as pd\n",
    "import numpy as np\n",
    "import matplotlib.pyplot as plt\n"
   ]
  },
  {
   "cell_type": "code",
   "execution_count": 36,
   "metadata": {},
   "outputs": [],
   "source": [
    "plt.style.use('seaborn')"
   ]
  },
  {
   "cell_type": "code",
   "execution_count": 2,
   "metadata": {},
   "outputs": [],
   "source": [
    "houses_df = pd.read_csv('datasets/kc-house-data.csv')"
   ]
  },
  {
   "cell_type": "code",
   "execution_count": 3,
   "metadata": {},
   "outputs": [
    {
     "data": {
      "text/html": [
       "<div>\n",
       "<style scoped>\n",
       "    .dataframe tbody tr th:only-of-type {\n",
       "        vertical-align: middle;\n",
       "    }\n",
       "\n",
       "    .dataframe tbody tr th {\n",
       "        vertical-align: top;\n",
       "    }\n",
       "\n",
       "    .dataframe thead th {\n",
       "        text-align: right;\n",
       "    }\n",
       "</style>\n",
       "<table border=\"1\" class=\"dataframe\">\n",
       "  <thead>\n",
       "    <tr style=\"text-align: right;\">\n",
       "      <th></th>\n",
       "      <th>id</th>\n",
       "      <th>date</th>\n",
       "      <th>price</th>\n",
       "      <th>bedrooms</th>\n",
       "      <th>bathrooms</th>\n",
       "      <th>sqft_living</th>\n",
       "      <th>sqft_lot</th>\n",
       "      <th>floors</th>\n",
       "      <th>waterfront</th>\n",
       "      <th>view</th>\n",
       "      <th>...</th>\n",
       "      <th>grade</th>\n",
       "      <th>sqft_above</th>\n",
       "      <th>sqft_basement</th>\n",
       "      <th>yr_built</th>\n",
       "      <th>yr_renovated</th>\n",
       "      <th>zipcode</th>\n",
       "      <th>lat</th>\n",
       "      <th>long</th>\n",
       "      <th>sqft_living15</th>\n",
       "      <th>sqft_lot15</th>\n",
       "    </tr>\n",
       "  </thead>\n",
       "  <tbody>\n",
       "    <tr>\n",
       "      <th>0</th>\n",
       "      <td>7129300520</td>\n",
       "      <td>20141013T000000</td>\n",
       "      <td>221900.0</td>\n",
       "      <td>3</td>\n",
       "      <td>1.00</td>\n",
       "      <td>1180</td>\n",
       "      <td>5650</td>\n",
       "      <td>1.0</td>\n",
       "      <td>0</td>\n",
       "      <td>0</td>\n",
       "      <td>...</td>\n",
       "      <td>7</td>\n",
       "      <td>1180</td>\n",
       "      <td>0</td>\n",
       "      <td>1955</td>\n",
       "      <td>0</td>\n",
       "      <td>98178</td>\n",
       "      <td>47.5112</td>\n",
       "      <td>-122.257</td>\n",
       "      <td>1340</td>\n",
       "      <td>5650</td>\n",
       "    </tr>\n",
       "    <tr>\n",
       "      <th>1</th>\n",
       "      <td>6414100192</td>\n",
       "      <td>20141209T000000</td>\n",
       "      <td>538000.0</td>\n",
       "      <td>3</td>\n",
       "      <td>2.25</td>\n",
       "      <td>2570</td>\n",
       "      <td>7242</td>\n",
       "      <td>2.0</td>\n",
       "      <td>0</td>\n",
       "      <td>0</td>\n",
       "      <td>...</td>\n",
       "      <td>7</td>\n",
       "      <td>2170</td>\n",
       "      <td>400</td>\n",
       "      <td>1951</td>\n",
       "      <td>1991</td>\n",
       "      <td>98125</td>\n",
       "      <td>47.7210</td>\n",
       "      <td>-122.319</td>\n",
       "      <td>1690</td>\n",
       "      <td>7639</td>\n",
       "    </tr>\n",
       "    <tr>\n",
       "      <th>2</th>\n",
       "      <td>5631500400</td>\n",
       "      <td>20150225T000000</td>\n",
       "      <td>180000.0</td>\n",
       "      <td>2</td>\n",
       "      <td>1.00</td>\n",
       "      <td>770</td>\n",
       "      <td>10000</td>\n",
       "      <td>1.0</td>\n",
       "      <td>0</td>\n",
       "      <td>0</td>\n",
       "      <td>...</td>\n",
       "      <td>6</td>\n",
       "      <td>770</td>\n",
       "      <td>0</td>\n",
       "      <td>1933</td>\n",
       "      <td>0</td>\n",
       "      <td>98028</td>\n",
       "      <td>47.7379</td>\n",
       "      <td>-122.233</td>\n",
       "      <td>2720</td>\n",
       "      <td>8062</td>\n",
       "    </tr>\n",
       "    <tr>\n",
       "      <th>3</th>\n",
       "      <td>2487200875</td>\n",
       "      <td>20141209T000000</td>\n",
       "      <td>604000.0</td>\n",
       "      <td>4</td>\n",
       "      <td>3.00</td>\n",
       "      <td>1960</td>\n",
       "      <td>5000</td>\n",
       "      <td>1.0</td>\n",
       "      <td>0</td>\n",
       "      <td>0</td>\n",
       "      <td>...</td>\n",
       "      <td>7</td>\n",
       "      <td>1050</td>\n",
       "      <td>910</td>\n",
       "      <td>1965</td>\n",
       "      <td>0</td>\n",
       "      <td>98136</td>\n",
       "      <td>47.5208</td>\n",
       "      <td>-122.393</td>\n",
       "      <td>1360</td>\n",
       "      <td>5000</td>\n",
       "    </tr>\n",
       "    <tr>\n",
       "      <th>4</th>\n",
       "      <td>1954400510</td>\n",
       "      <td>20150218T000000</td>\n",
       "      <td>510000.0</td>\n",
       "      <td>3</td>\n",
       "      <td>2.00</td>\n",
       "      <td>1680</td>\n",
       "      <td>8080</td>\n",
       "      <td>1.0</td>\n",
       "      <td>0</td>\n",
       "      <td>0</td>\n",
       "      <td>...</td>\n",
       "      <td>8</td>\n",
       "      <td>1680</td>\n",
       "      <td>0</td>\n",
       "      <td>1987</td>\n",
       "      <td>0</td>\n",
       "      <td>98074</td>\n",
       "      <td>47.6168</td>\n",
       "      <td>-122.045</td>\n",
       "      <td>1800</td>\n",
       "      <td>7503</td>\n",
       "    </tr>\n",
       "  </tbody>\n",
       "</table>\n",
       "<p>5 rows × 21 columns</p>\n",
       "</div>"
      ],
      "text/plain": [
       "           id             date     price  bedrooms  bathrooms  sqft_living  \\\n",
       "0  7129300520  20141013T000000  221900.0         3       1.00         1180   \n",
       "1  6414100192  20141209T000000  538000.0         3       2.25         2570   \n",
       "2  5631500400  20150225T000000  180000.0         2       1.00          770   \n",
       "3  2487200875  20141209T000000  604000.0         4       3.00         1960   \n",
       "4  1954400510  20150218T000000  510000.0         3       2.00         1680   \n",
       "\n",
       "   sqft_lot  floors  waterfront  view  ...  grade  sqft_above  sqft_basement  \\\n",
       "0      5650     1.0           0     0  ...      7        1180              0   \n",
       "1      7242     2.0           0     0  ...      7        2170            400   \n",
       "2     10000     1.0           0     0  ...      6         770              0   \n",
       "3      5000     1.0           0     0  ...      7        1050            910   \n",
       "4      8080     1.0           0     0  ...      8        1680              0   \n",
       "\n",
       "   yr_built  yr_renovated  zipcode      lat     long  sqft_living15  \\\n",
       "0      1955             0    98178  47.5112 -122.257           1340   \n",
       "1      1951          1991    98125  47.7210 -122.319           1690   \n",
       "2      1933             0    98028  47.7379 -122.233           2720   \n",
       "3      1965             0    98136  47.5208 -122.393           1360   \n",
       "4      1987             0    98074  47.6168 -122.045           1800   \n",
       "\n",
       "   sqft_lot15  \n",
       "0        5650  \n",
       "1        7639  \n",
       "2        8062  \n",
       "3        5000  \n",
       "4        7503  \n",
       "\n",
       "[5 rows x 21 columns]"
      ]
     },
     "execution_count": 3,
     "metadata": {},
     "output_type": "execute_result"
    }
   ],
   "source": [
    "houses_df.head()"
   ]
  },
  {
   "cell_type": "code",
   "execution_count": 4,
   "metadata": {},
   "outputs": [
    {
     "data": {
      "text/plain": [
       "(21613, 21)"
      ]
     },
     "execution_count": 4,
     "metadata": {},
     "output_type": "execute_result"
    }
   ],
   "source": [
    "houses_df.shape"
   ]
  },
  {
   "cell_type": "code",
   "execution_count": 5,
   "metadata": {},
   "outputs": [],
   "source": [
    "X_raw = houses_df.iloc[:, 3:]"
   ]
  },
  {
   "cell_type": "code",
   "execution_count": 6,
   "metadata": {},
   "outputs": [
    {
     "data": {
      "text/plain": [
       "((14048, 18), (14048,), (7565, 18), (7565,))"
      ]
     },
     "execution_count": 6,
     "metadata": {},
     "output_type": "execute_result"
    }
   ],
   "source": [
    "from sklearn.model_selection import train_test_split\n",
    "\n",
    "X_train, X_test, y_train, y_test = train_test_split(X_raw, houses_df.iloc[:, 2], \n",
    "                                                    test_size=.35, random_state=43)\n",
    "\n",
    "X_train.shape, y_train.shape, X_test.shape, y_test.shape"
   ]
  },
  {
   "cell_type": "code",
   "execution_count": 7,
   "metadata": {},
   "outputs": [
    {
     "data": {
      "text/plain": [
       "bedrooms         0\n",
       "bathrooms        0\n",
       "sqft_living      0\n",
       "sqft_lot         0\n",
       "floors           0\n",
       "waterfront       0\n",
       "view             0\n",
       "condition        0\n",
       "grade            0\n",
       "sqft_above       0\n",
       "sqft_basement    0\n",
       "yr_built         0\n",
       "yr_renovated     0\n",
       "zipcode          0\n",
       "lat              0\n",
       "long             0\n",
       "sqft_living15    0\n",
       "sqft_lot15       0\n",
       "dtype: int64"
      ]
     },
     "execution_count": 7,
     "metadata": {},
     "output_type": "execute_result"
    }
   ],
   "source": [
    "X_train.isnull().sum()"
   ]
  },
  {
   "cell_type": "code",
   "execution_count": 8,
   "metadata": {},
   "outputs": [],
   "source": [
    "numerical = ['bedrooms', 'bathrooms', 'sqft_living', 'sqft_lot', 'floors', 'sqft_above', 'sqft_basement',\n",
    "            'sqft_living15', 'sqft_lot15', 'yr_renovated', 'yr_built', 'lat', 'long']\n",
    "\n",
    "binary = ['waterfront', 'zipcode']\n",
    "quality = ['condition', 'grade']"
   ]
  },
  {
   "cell_type": "code",
   "execution_count": 9,
   "metadata": {},
   "outputs": [],
   "source": [
    "from sklearn.preprocessing import OneHotEncoder, LabelEncoder, MinMaxScaler, StandardScaler"
   ]
  },
  {
   "cell_type": "code",
   "execution_count": 10,
   "metadata": {},
   "outputs": [
    {
     "name": "stderr",
     "output_type": "stream",
     "text": [
      "/home/dsntos/.local/lib/python3.8/site-packages/sklearn/utils/validation.py:72: DataConversionWarning: A column-vector y was passed when a 1d array was expected. Please change the shape of y to (n_samples, ), for example using ravel().\n",
      "  return f(**kwargs)\n"
     ]
    }
   ],
   "source": [
    "binary_ohe = OneHotEncoder()\n",
    "quality_1 = LabelEncoder()\n",
    "quality_2 = LabelEncoder()\n",
    "\n",
    "numerical_scaler = MinMaxScaler()\n",
    "quality_scaler = MinMaxScaler()\n",
    "hot_scaler = StandardScaler()\n",
    "y_scaler = MinMaxScaler()\n",
    "\n",
    "scaled_numerical = numerical_scaler.fit_transform(X_train[numerical])\n",
    "hot_encoded = binary_ohe.fit_transform(X_train[binary])\n",
    "condition = quality_1.fit_transform(X_train['condition'].values.reshape(-1, 1))\n",
    "grade = quality_2.fit_transform(X_train['grade'].values.reshape(-1, 1))"
   ]
  },
  {
   "cell_type": "code",
   "execution_count": 11,
   "metadata": {},
   "outputs": [],
   "source": [
    "X_train_final = pd.DataFrame(scaled_numerical, columns=numerical)\n",
    "\n",
    "condition = pd.DataFrame(condition.reshape(-1, 1))\n",
    "grade = pd.DataFrame(grade.reshape(-1, 1))\n",
    "\n",
    "cdt_grd = pd.concat([condition, grade], axis=1)\n",
    "cdt_grd.columns = ['condition', 'grade']\n",
    "cdt_grd = quality_scaler.fit_transform(cdt_grd)\n",
    "cdt_grd = pd.DataFrame(cdt_grd, columns=['condition', 'grade'])"
   ]
  },
  {
   "cell_type": "code",
   "execution_count": 12,
   "metadata": {},
   "outputs": [],
   "source": [
    "X_train_final = pd.concat([X_train_final, cdt_grd], axis=1)"
   ]
  },
  {
   "cell_type": "code",
   "execution_count": 13,
   "metadata": {},
   "outputs": [],
   "source": [
    "scaled_hot = hot_scaler.fit_transform(pd.DataFrame(hot_encoded.toarray()))\n",
    "scaled_hot = pd.DataFrame(scaled_hot)\n",
    "X_train_final = pd.concat([X_train_final, scaled_hot], axis=1)"
   ]
  },
  {
   "cell_type": "code",
   "execution_count": 14,
   "metadata": {},
   "outputs": [],
   "source": [
    "y_train_encoded = y_scaler.fit_transform(y_train.values.reshape(-1, 1))"
   ]
  },
  {
   "cell_type": "code",
   "execution_count": 15,
   "metadata": {},
   "outputs": [],
   "source": [
    "#preparing model"
   ]
  },
  {
   "cell_type": "code",
   "execution_count": 58,
   "metadata": {},
   "outputs": [],
   "source": [
    "model = tf.keras.models.Sequential()\n",
    "model.add(tf.keras.layers.Dense(units=250, activation='sigmoid', input_shape=(87,)))\n",
    "model.add(tf.keras.layers.Dense(units=500, activation='relu'))\n",
    "model.add(tf.keras.layers.Dropout(0.5))\n",
    "model.add(tf.keras.layers.Dense(units=250, activation='relu'))\n",
    "model.add(tf.keras.layers.Dense(units=500, activation='relu'))\n",
    "model.add(tf.keras.layers.Dropout(0.5))\n",
    "model.add(tf.keras.layers.Dense(units=100, activation='relu'))\n",
    "model.add(tf.keras.layers.Dense(units=100, activation='relu'))\n",
    "model.add(tf.keras.layers.Dense(units=1, activation='linear'))"
   ]
  },
  {
   "cell_type": "code",
   "execution_count": 59,
   "metadata": {},
   "outputs": [
    {
     "name": "stdout",
     "output_type": "stream",
     "text": [
      "Model: \"sequential_2\"\n",
      "_________________________________________________________________\n",
      "Layer (type)                 Output Shape              Param #   \n",
      "=================================================================\n",
      "dense_14 (Dense)             (None, 250)               22000     \n",
      "_________________________________________________________________\n",
      "dense_15 (Dense)             (None, 500)               125500    \n",
      "_________________________________________________________________\n",
      "dropout_4 (Dropout)          (None, 500)               0         \n",
      "_________________________________________________________________\n",
      "dense_16 (Dense)             (None, 250)               125250    \n",
      "_________________________________________________________________\n",
      "dense_17 (Dense)             (None, 500)               125500    \n",
      "_________________________________________________________________\n",
      "dropout_5 (Dropout)          (None, 500)               0         \n",
      "_________________________________________________________________\n",
      "dense_18 (Dense)             (None, 100)               50100     \n",
      "_________________________________________________________________\n",
      "dense_19 (Dense)             (None, 100)               10100     \n",
      "_________________________________________________________________\n",
      "dense_20 (Dense)             (None, 1)                 101       \n",
      "=================================================================\n",
      "Total params: 458,551\n",
      "Trainable params: 458,551\n",
      "Non-trainable params: 0\n",
      "_________________________________________________________________\n"
     ]
    }
   ],
   "source": [
    "model.summary()"
   ]
  },
  {
   "cell_type": "code",
   "execution_count": 60,
   "metadata": {},
   "outputs": [],
   "source": [
    "#from tensorflow.keras.optimizers import Adam\n",
    "model.compile(optimizer='Adam', loss='mean_squared_error')"
   ]
  },
  {
   "cell_type": "code",
   "execution_count": 61,
   "metadata": {},
   "outputs": [
    {
     "name": "stdout",
     "output_type": "stream",
     "text": [
      "Epoch 1/150\n",
      "225/225 [==============================] - 1s 6ms/step - loss: 0.0038 - val_loss: 0.0022\n",
      "Epoch 2/150\n",
      "225/225 [==============================] - 1s 6ms/step - loss: 0.0016 - val_loss: 0.0020\n",
      "Epoch 3/150\n",
      "225/225 [==============================] - 1s 6ms/step - loss: 0.0012 - val_loss: 0.0014\n",
      "Epoch 4/150\n",
      "225/225 [==============================] - 1s 6ms/step - loss: 0.0010 - val_loss: 8.9158e-04\n",
      "Epoch 5/150\n",
      "225/225 [==============================] - 1s 6ms/step - loss: 8.5011e-04 - val_loss: 7.8546e-04\n",
      "Epoch 6/150\n",
      "225/225 [==============================] - 1s 6ms/step - loss: 7.4218e-04 - val_loss: 6.1431e-04\n",
      "Epoch 7/150\n",
      "225/225 [==============================] - 1s 6ms/step - loss: 8.3050e-04 - val_loss: 0.0010\n",
      "Epoch 8/150\n",
      "225/225 [==============================] - 1s 6ms/step - loss: 7.0758e-04 - val_loss: 7.0204e-04\n",
      "Epoch 9/150\n",
      "225/225 [==============================] - 1s 6ms/step - loss: 6.9666e-04 - val_loss: 7.1913e-04\n",
      "Epoch 10/150\n",
      "225/225 [==============================] - 1s 6ms/step - loss: 5.3778e-04 - val_loss: 0.0010\n",
      "Epoch 11/150\n",
      "225/225 [==============================] - 1s 6ms/step - loss: 5.3457e-04 - val_loss: 8.6161e-04\n",
      "Epoch 12/150\n",
      "225/225 [==============================] - 1s 6ms/step - loss: 5.7735e-04 - val_loss: 0.0010\n",
      "Epoch 13/150\n",
      "225/225 [==============================] - 1s 6ms/step - loss: 5.2375e-04 - val_loss: 0.0012\n",
      "Epoch 14/150\n",
      "225/225 [==============================] - 1s 6ms/step - loss: 5.2072e-04 - val_loss: 0.0017\n",
      "Epoch 15/150\n",
      "225/225 [==============================] - 1s 6ms/step - loss: 6.1685e-04 - val_loss: 0.0015\n",
      "Epoch 16/150\n",
      "225/225 [==============================] - 1s 6ms/step - loss: 4.9939e-04 - val_loss: 0.0015\n",
      "Epoch 17/150\n",
      "225/225 [==============================] - 1s 6ms/step - loss: 4.6770e-04 - val_loss: 0.0022\n",
      "Epoch 18/150\n",
      "225/225 [==============================] - 1s 6ms/step - loss: 4.5131e-04 - val_loss: 0.0022\n",
      "Epoch 19/150\n",
      "225/225 [==============================] - 1s 6ms/step - loss: 5.0750e-04 - val_loss: 0.0015\n",
      "Epoch 20/150\n",
      "225/225 [==============================] - 1s 6ms/step - loss: 5.3008e-04 - val_loss: 0.0028\n",
      "Epoch 21/150\n",
      "225/225 [==============================] - 1s 6ms/step - loss: 5.4249e-04 - val_loss: 0.0018\n",
      "Epoch 22/150\n",
      "225/225 [==============================] - 1s 6ms/step - loss: 5.2158e-04 - val_loss: 0.0032\n",
      "Epoch 23/150\n",
      "225/225 [==============================] - 1s 6ms/step - loss: 4.5813e-04 - val_loss: 0.0042\n",
      "Epoch 24/150\n",
      "225/225 [==============================] - 1s 6ms/step - loss: 4.4524e-04 - val_loss: 0.0044\n",
      "Epoch 25/150\n",
      "225/225 [==============================] - 1s 6ms/step - loss: 4.4113e-04 - val_loss: 0.0021\n",
      "Epoch 26/150\n",
      "225/225 [==============================] - 1s 6ms/step - loss: 4.2994e-04 - val_loss: 0.0024\n",
      "Epoch 27/150\n",
      "225/225 [==============================] - 1s 6ms/step - loss: 4.0620e-04 - val_loss: 0.0027\n",
      "Epoch 28/150\n",
      "225/225 [==============================] - 1s 6ms/step - loss: 4.2012e-04 - val_loss: 0.0026\n",
      "Epoch 29/150\n",
      "225/225 [==============================] - 1s 6ms/step - loss: 4.9057e-04 - val_loss: 0.0029\n",
      "Epoch 30/150\n",
      "225/225 [==============================] - 1s 6ms/step - loss: 4.4202e-04 - val_loss: 0.0029\n",
      "Epoch 31/150\n",
      "225/225 [==============================] - 1s 6ms/step - loss: 4.4370e-04 - val_loss: 0.0029\n",
      "Epoch 32/150\n",
      "225/225 [==============================] - 1s 6ms/step - loss: 4.5058e-04 - val_loss: 0.0039\n",
      "Epoch 33/150\n",
      "225/225 [==============================] - 1s 6ms/step - loss: 4.2100e-04 - val_loss: 0.0045\n",
      "Epoch 34/150\n",
      "225/225 [==============================] - 1s 6ms/step - loss: 4.2627e-04 - val_loss: 0.0020\n",
      "Epoch 35/150\n",
      "225/225 [==============================] - 1s 6ms/step - loss: 3.8261e-04 - val_loss: 0.0031\n",
      "Epoch 36/150\n",
      "225/225 [==============================] - 1s 6ms/step - loss: 4.1024e-04 - val_loss: 0.0025\n",
      "Epoch 37/150\n",
      "225/225 [==============================] - 1s 6ms/step - loss: 3.6709e-04 - val_loss: 0.0025\n",
      "Epoch 38/150\n",
      "225/225 [==============================] - 1s 6ms/step - loss: 3.9933e-04 - val_loss: 0.0029\n",
      "Epoch 39/150\n",
      "225/225 [==============================] - 1s 6ms/step - loss: 3.7221e-04 - val_loss: 0.0031\n",
      "Epoch 40/150\n",
      "225/225 [==============================] - 1s 6ms/step - loss: 4.0660e-04 - val_loss: 0.0017\n",
      "Epoch 41/150\n",
      "225/225 [==============================] - 1s 6ms/step - loss: 3.8342e-04 - val_loss: 0.0019\n",
      "Epoch 42/150\n",
      "225/225 [==============================] - 1s 6ms/step - loss: 4.1591e-04 - val_loss: 0.0027\n",
      "Epoch 43/150\n",
      "225/225 [==============================] - 1s 6ms/step - loss: 4.0428e-04 - val_loss: 0.0020\n",
      "Epoch 44/150\n",
      "225/225 [==============================] - 1s 6ms/step - loss: 3.7578e-04 - val_loss: 0.0021\n",
      "Epoch 45/150\n",
      "225/225 [==============================] - 1s 6ms/step - loss: 3.8590e-04 - val_loss: 0.0028\n",
      "Epoch 46/150\n",
      "225/225 [==============================] - 1s 6ms/step - loss: 3.7648e-04 - val_loss: 0.0022\n",
      "Epoch 47/150\n",
      "225/225 [==============================] - 1s 6ms/step - loss: 3.4878e-04 - val_loss: 0.0027\n",
      "Epoch 48/150\n",
      "225/225 [==============================] - 1s 6ms/step - loss: 3.4497e-04 - val_loss: 0.0029\n",
      "Epoch 49/150\n",
      "225/225 [==============================] - 1s 6ms/step - loss: 3.6473e-04 - val_loss: 0.0028\n",
      "Epoch 50/150\n",
      "225/225 [==============================] - 1s 6ms/step - loss: 3.6670e-04 - val_loss: 0.0026\n",
      "Epoch 51/150\n",
      "225/225 [==============================] - 1s 6ms/step - loss: 3.5854e-04 - val_loss: 0.0026\n",
      "Epoch 52/150\n",
      "225/225 [==============================] - 1s 6ms/step - loss: 3.8363e-04 - val_loss: 0.0025\n",
      "Epoch 53/150\n",
      "225/225 [==============================] - 1s 6ms/step - loss: 3.6078e-04 - val_loss: 0.0028\n",
      "Epoch 54/150\n",
      "225/225 [==============================] - 1s 6ms/step - loss: 3.5965e-04 - val_loss: 0.0028\n",
      "Epoch 55/150\n",
      "225/225 [==============================] - 1s 6ms/step - loss: 3.8266e-04 - val_loss: 0.0015\n",
      "Epoch 56/150\n",
      "225/225 [==============================] - 1s 6ms/step - loss: 3.4189e-04 - val_loss: 0.0024\n",
      "Epoch 57/150\n",
      "225/225 [==============================] - 1s 6ms/step - loss: 3.1952e-04 - val_loss: 0.0044\n",
      "Epoch 58/150\n",
      "225/225 [==============================] - 1s 6ms/step - loss: 3.7940e-04 - val_loss: 0.0030\n",
      "Epoch 59/150\n",
      "225/225 [==============================] - 1s 6ms/step - loss: 3.3216e-04 - val_loss: 0.0030\n",
      "Epoch 60/150\n",
      "225/225 [==============================] - 1s 6ms/step - loss: 3.3158e-04 - val_loss: 0.0026\n",
      "Epoch 61/150\n",
      "225/225 [==============================] - 1s 6ms/step - loss: 3.4062e-04 - val_loss: 0.0022\n",
      "Epoch 62/150\n",
      "225/225 [==============================] - 1s 6ms/step - loss: 3.2622e-04 - val_loss: 0.0034\n",
      "Epoch 63/150\n",
      "225/225 [==============================] - 1s 6ms/step - loss: 3.5740e-04 - val_loss: 0.0026\n",
      "Epoch 64/150\n",
      "225/225 [==============================] - 1s 6ms/step - loss: 3.4445e-04 - val_loss: 0.0027\n",
      "Epoch 65/150\n",
      "225/225 [==============================] - 1s 6ms/step - loss: 3.4274e-04 - val_loss: 0.0020\n",
      "Epoch 66/150\n",
      "225/225 [==============================] - 1s 6ms/step - loss: 3.3099e-04 - val_loss: 0.0028\n",
      "Epoch 67/150\n",
      "225/225 [==============================] - 1s 6ms/step - loss: 3.5673e-04 - val_loss: 0.0025\n",
      "Epoch 68/150\n",
      "225/225 [==============================] - 1s 6ms/step - loss: 3.3094e-04 - val_loss: 0.0032\n",
      "Epoch 69/150\n",
      "225/225 [==============================] - 1s 6ms/step - loss: 3.3256e-04 - val_loss: 0.0031\n",
      "Epoch 70/150\n",
      "225/225 [==============================] - 1s 6ms/step - loss: 3.2415e-04 - val_loss: 0.0034\n",
      "Epoch 71/150\n",
      "225/225 [==============================] - 1s 6ms/step - loss: 2.9963e-04 - val_loss: 0.0030\n",
      "Epoch 72/150\n",
      "225/225 [==============================] - 1s 6ms/step - loss: 3.3072e-04 - val_loss: 0.0029\n",
      "Epoch 73/150\n",
      "225/225 [==============================] - 1s 6ms/step - loss: 3.0210e-04 - val_loss: 0.0025\n",
      "Epoch 74/150\n",
      "225/225 [==============================] - 1s 6ms/step - loss: 3.2171e-04 - val_loss: 0.0028\n",
      "Epoch 75/150\n",
      "225/225 [==============================] - 1s 6ms/step - loss: 3.2400e-04 - val_loss: 0.0015\n",
      "Epoch 76/150\n",
      "225/225 [==============================] - 1s 6ms/step - loss: 3.0994e-04 - val_loss: 0.0021\n",
      "Epoch 77/150\n",
      "225/225 [==============================] - 1s 6ms/step - loss: 3.3677e-04 - val_loss: 0.0022\n",
      "Epoch 78/150\n"
     ]
    },
    {
     "name": "stdout",
     "output_type": "stream",
     "text": [
      "225/225 [==============================] - 1s 6ms/step - loss: 3.0892e-04 - val_loss: 0.0024\n",
      "Epoch 79/150\n",
      "225/225 [==============================] - 1s 6ms/step - loss: 3.3170e-04 - val_loss: 0.0022\n",
      "Epoch 80/150\n",
      "225/225 [==============================] - 1s 6ms/step - loss: 3.0148e-04 - val_loss: 0.0025\n",
      "Epoch 81/150\n",
      "225/225 [==============================] - 1s 6ms/step - loss: 2.9589e-04 - val_loss: 0.0019\n",
      "Epoch 82/150\n",
      "225/225 [==============================] - 1s 6ms/step - loss: 3.0646e-04 - val_loss: 0.0017\n",
      "Epoch 83/150\n",
      "225/225 [==============================] - 1s 6ms/step - loss: 3.1798e-04 - val_loss: 0.0016\n",
      "Epoch 84/150\n",
      "225/225 [==============================] - 1s 6ms/step - loss: 3.1283e-04 - val_loss: 0.0031\n",
      "Epoch 85/150\n",
      "225/225 [==============================] - 1s 6ms/step - loss: 3.3404e-04 - val_loss: 0.0018\n",
      "Epoch 86/150\n",
      "225/225 [==============================] - 1s 6ms/step - loss: 3.0455e-04 - val_loss: 0.0025\n",
      "Epoch 87/150\n",
      "225/225 [==============================] - 1s 6ms/step - loss: 3.0843e-04 - val_loss: 0.0021\n",
      "Epoch 88/150\n",
      "225/225 [==============================] - 1s 6ms/step - loss: 3.1446e-04 - val_loss: 0.0023\n",
      "Epoch 89/150\n",
      "225/225 [==============================] - 1s 6ms/step - loss: 3.2267e-04 - val_loss: 0.0021\n",
      "Epoch 90/150\n",
      "225/225 [==============================] - 1s 6ms/step - loss: 3.2901e-04 - val_loss: 0.0026\n",
      "Epoch 91/150\n",
      "225/225 [==============================] - 1s 6ms/step - loss: 3.0185e-04 - val_loss: 0.0019\n",
      "Epoch 92/150\n",
      "225/225 [==============================] - 1s 6ms/step - loss: 2.8748e-04 - val_loss: 0.0022\n",
      "Epoch 93/150\n",
      "225/225 [==============================] - 1s 6ms/step - loss: 3.2636e-04 - val_loss: 0.0023\n",
      "Epoch 94/150\n",
      "225/225 [==============================] - 1s 6ms/step - loss: 3.0497e-04 - val_loss: 0.0024\n",
      "Epoch 95/150\n",
      "225/225 [==============================] - 1s 6ms/step - loss: 2.9827e-04 - val_loss: 0.0024\n",
      "Epoch 96/150\n",
      "225/225 [==============================] - 1s 6ms/step - loss: 2.8149e-04 - val_loss: 0.0020\n",
      "Epoch 97/150\n",
      "225/225 [==============================] - 1s 6ms/step - loss: 3.0962e-04 - val_loss: 0.0021\n",
      "Epoch 98/150\n",
      "225/225 [==============================] - 1s 6ms/step - loss: 3.2741e-04 - val_loss: 0.0027\n",
      "Epoch 99/150\n",
      "225/225 [==============================] - 1s 6ms/step - loss: 3.0432e-04 - val_loss: 0.0023\n",
      "Epoch 100/150\n",
      "225/225 [==============================] - 1s 6ms/step - loss: 2.7953e-04 - val_loss: 0.0024\n",
      "Epoch 101/150\n",
      "225/225 [==============================] - 1s 6ms/step - loss: 3.0395e-04 - val_loss: 0.0022\n",
      "Epoch 102/150\n",
      "225/225 [==============================] - 1s 6ms/step - loss: 2.8052e-04 - val_loss: 0.0028\n",
      "Epoch 103/150\n",
      "225/225 [==============================] - 1s 6ms/step - loss: 2.7993e-04 - val_loss: 0.0024\n",
      "Epoch 104/150\n",
      "225/225 [==============================] - 1s 6ms/step - loss: 2.9021e-04 - val_loss: 0.0022\n",
      "Epoch 105/150\n",
      "225/225 [==============================] - 1s 6ms/step - loss: 2.8318e-04 - val_loss: 0.0026\n",
      "Epoch 106/150\n",
      "225/225 [==============================] - 1s 6ms/step - loss: 2.9606e-04 - val_loss: 0.0022\n",
      "Epoch 107/150\n",
      "225/225 [==============================] - 1s 6ms/step - loss: 2.8054e-04 - val_loss: 0.0017\n",
      "Epoch 108/150\n",
      "225/225 [==============================] - 1s 6ms/step - loss: 2.8032e-04 - val_loss: 0.0020\n",
      "Epoch 109/150\n",
      "225/225 [==============================] - 1s 6ms/step - loss: 2.8735e-04 - val_loss: 0.0019\n",
      "Epoch 110/150\n",
      "225/225 [==============================] - 1s 6ms/step - loss: 2.9217e-04 - val_loss: 0.0024\n",
      "Epoch 111/150\n",
      "225/225 [==============================] - 1s 6ms/step - loss: 3.2267e-04 - val_loss: 0.0025\n",
      "Epoch 112/150\n",
      "225/225 [==============================] - 1s 6ms/step - loss: 2.9718e-04 - val_loss: 0.0024\n",
      "Epoch 113/150\n",
      "225/225 [==============================] - 1s 6ms/step - loss: 2.8625e-04 - val_loss: 0.0024\n",
      "Epoch 114/150\n",
      "225/225 [==============================] - 1s 6ms/step - loss: 2.8042e-04 - val_loss: 0.0019\n",
      "Epoch 115/150\n",
      "225/225 [==============================] - 1s 6ms/step - loss: 2.9173e-04 - val_loss: 0.0017\n",
      "Epoch 116/150\n",
      "225/225 [==============================] - 1s 6ms/step - loss: 2.7164e-04 - val_loss: 0.0020\n",
      "Epoch 117/150\n",
      "225/225 [==============================] - 1s 6ms/step - loss: 2.7983e-04 - val_loss: 0.0018\n",
      "Epoch 118/150\n",
      "225/225 [==============================] - 1s 6ms/step - loss: 2.8222e-04 - val_loss: 0.0016\n",
      "Epoch 119/150\n",
      "225/225 [==============================] - 1s 6ms/step - loss: 2.7199e-04 - val_loss: 0.0018\n",
      "Epoch 120/150\n",
      "225/225 [==============================] - 1s 6ms/step - loss: 2.8320e-04 - val_loss: 0.0020\n",
      "Epoch 121/150\n",
      "225/225 [==============================] - 1s 6ms/step - loss: 2.8062e-04 - val_loss: 0.0018\n",
      "Epoch 122/150\n",
      "225/225 [==============================] - 1s 6ms/step - loss: 2.7635e-04 - val_loss: 0.0022\n",
      "Epoch 123/150\n",
      "225/225 [==============================] - 1s 6ms/step - loss: 2.8796e-04 - val_loss: 0.0023\n",
      "Epoch 124/150\n",
      "225/225 [==============================] - 1s 6ms/step - loss: 2.5564e-04 - val_loss: 0.0021\n",
      "Epoch 125/150\n",
      "225/225 [==============================] - 1s 6ms/step - loss: 2.9226e-04 - val_loss: 0.0027\n",
      "Epoch 126/150\n",
      "225/225 [==============================] - 1s 6ms/step - loss: 2.8501e-04 - val_loss: 0.0021\n",
      "Epoch 127/150\n",
      "225/225 [==============================] - 1s 6ms/step - loss: 2.5788e-04 - val_loss: 0.0023\n",
      "Epoch 128/150\n",
      "225/225 [==============================] - 1s 6ms/step - loss: 2.7480e-04 - val_loss: 0.0016\n",
      "Epoch 129/150\n",
      "225/225 [==============================] - 1s 6ms/step - loss: 2.5995e-04 - val_loss: 0.0013\n",
      "Epoch 130/150\n",
      "225/225 [==============================] - 1s 6ms/step - loss: 2.7550e-04 - val_loss: 0.0017\n",
      "Epoch 131/150\n",
      "225/225 [==============================] - 1s 6ms/step - loss: 2.6887e-04 - val_loss: 0.0017\n",
      "Epoch 132/150\n",
      "225/225 [==============================] - 1s 6ms/step - loss: 2.7416e-04 - val_loss: 0.0019\n",
      "Epoch 133/150\n",
      "225/225 [==============================] - 1s 6ms/step - loss: 2.7462e-04 - val_loss: 0.0019\n",
      "Epoch 134/150\n",
      "225/225 [==============================] - 1s 6ms/step - loss: 2.7208e-04 - val_loss: 0.0012\n",
      "Epoch 135/150\n",
      "225/225 [==============================] - 1s 6ms/step - loss: 2.5677e-04 - val_loss: 0.0018\n",
      "Epoch 136/150\n",
      "225/225 [==============================] - 1s 6ms/step - loss: 2.7836e-04 - val_loss: 0.0021\n",
      "Epoch 137/150\n",
      "225/225 [==============================] - 1s 6ms/step - loss: 2.6841e-04 - val_loss: 0.0023\n",
      "Epoch 138/150\n",
      "225/225 [==============================] - 1s 6ms/step - loss: 2.6737e-04 - val_loss: 0.0018\n",
      "Epoch 139/150\n",
      "225/225 [==============================] - 1s 6ms/step - loss: 2.6798e-04 - val_loss: 0.0020\n",
      "Epoch 140/150\n",
      "225/225 [==============================] - 1s 6ms/step - loss: 2.7947e-04 - val_loss: 0.0020\n",
      "Epoch 141/150\n",
      "225/225 [==============================] - 1s 6ms/step - loss: 2.5143e-04 - val_loss: 0.0019\n",
      "Epoch 142/150\n",
      "225/225 [==============================] - 1s 6ms/step - loss: 2.8417e-04 - val_loss: 0.0015\n",
      "Epoch 143/150\n",
      "225/225 [==============================] - 1s 6ms/step - loss: 2.8863e-04 - val_loss: 0.0016\n",
      "Epoch 144/150\n",
      "225/225 [==============================] - 1s 6ms/step - loss: 2.6699e-04 - val_loss: 0.0018\n",
      "Epoch 145/150\n",
      "225/225 [==============================] - 1s 6ms/step - loss: 2.5544e-04 - val_loss: 0.0019\n",
      "Epoch 146/150\n",
      "225/225 [==============================] - 1s 6ms/step - loss: 2.6548e-04 - val_loss: 0.0018\n",
      "Epoch 147/150\n",
      "225/225 [==============================] - 1s 6ms/step - loss: 2.5681e-04 - val_loss: 0.0018\n",
      "Epoch 148/150\n",
      "225/225 [==============================] - 1s 6ms/step - loss: 2.5051e-04 - val_loss: 0.0017\n",
      "Epoch 149/150\n",
      "225/225 [==============================] - 1s 6ms/step - loss: 2.6827e-04 - val_loss: 0.0018\n",
      "Epoch 150/150\n",
      "225/225 [==============================] - 1s 6ms/step - loss: 2.7329e-04 - val_loss: 0.0019\n"
     ]
    }
   ],
   "source": [
    "epochs_hist = model.fit(X_train_final, y_train_encoded, epochs=150, batch_size=50, validation_split=0.2)"
   ]
  },
  {
   "cell_type": "code",
   "execution_count": 62,
   "metadata": {},
   "outputs": [
    {
     "data": {
      "text/plain": [
       "<matplotlib.legend.Legend at 0x7f7ad86e4d30>"
      ]
     },
     "execution_count": 62,
     "metadata": {},
     "output_type": "execute_result"
    },
    {
     "data": {
      "image/png": "[encoded data removed]",
      "text/plain": [
       "<Figure size 576x396 with 1 Axes>"
      ]
     },
     "metadata": {},
     "output_type": "display_data"
    }
   ],
   "source": [
    "plt.plot(epochs_hist.history['loss'])\n",
    "plt.plot(epochs_hist.history['val_loss'])\n",
    "plt.title('Modelo loss progess during training')\n",
    "plt.xlabel('epochs')\n",
    "plt.ylabel('training in validation loss')\n",
    "plt.legend(['Training loss', 'Validation Loss'])"
   ]
  },
  {
   "cell_type": "code",
   "execution_count": 75,
   "metadata": {},
   "outputs": [
    {
     "name": "stderr",
     "output_type": "stream",
     "text": [
      "/home/dsntos/.local/lib/python3.8/site-packages/sklearn/utils/validation.py:72: DataConversionWarning: A column-vector y was passed when a 1d array was expected. Please change the shape of y to (n_samples, ), for example using ravel().\n",
      "  return f(**kwargs)\n"
     ]
    }
   ],
   "source": [
    "scaled_numerical = numerical_scaler.fit_transform(X_test[numerical])\n",
    "hot_encoded = binary_ohe.fit_transform(X_test[binary])\n",
    "condition = quality_1.fit_transform(X_test['condition'].values.reshape(-1, 1))\n",
    "grade = quality_2.fit_transform(X_test['grade'].values.reshape(-1, 1))"
   ]
  },
  {
   "cell_type": "code",
   "execution_count": 76,
   "metadata": {},
   "outputs": [],
   "source": [
    "X_test_final = pd.DataFrame(scaled_numerical, columns=numerical)\n",
    "\n",
    "condition = pd.DataFrame(condition.reshape(-1, 1))\n",
    "grade = pd.DataFrame(grade.reshape(-1, 1))\n",
    "\n",
    "cdt_grd = pd.concat([condition, grade], axis=1)\n",
    "cdt_grd.columns = ['condition', 'grade']\n",
    "cdt_grd = quality_scaler.transform(cdt_grd)\n",
    "cdt_grd = pd.DataFrame(cdt_grd, columns=['condition', 'grade'])"
   ]
  },
  {
   "cell_type": "code",
   "execution_count": 77,
   "metadata": {},
   "outputs": [],
   "source": [
    "X_test_final = pd.concat([X_test_final, cdt_grd], axis=1)"
   ]
  },
  {
   "cell_type": "code",
   "execution_count": 78,
   "metadata": {},
   "outputs": [],
   "source": [
    "\n",
    "scaled_hot = hot_scaler.transform(pd.DataFrame(hot_encoded.toarray()))\n",
    "scaled_hot = pd.DataFrame(scaled_hot)\n",
    "X_test_final = pd.concat([X_test_final, scaled_hot], axis=1)"
   ]
  },
  {
   "cell_type": "code",
   "execution_count": 79,
   "metadata": {},
   "outputs": [],
   "source": [
    "y_test_encoded = y_scaler.transform(y_test.values.reshape(-1, 1))"
   ]
  },
  {
   "cell_type": "code",
   "execution_count": 80,
   "metadata": {},
   "outputs": [],
   "source": [
    "y_pred_encoded = model.predict(X_test_final)"
   ]
  },
  {
   "cell_type": "code",
   "execution_count": 81,
   "metadata": {},
   "outputs": [
    {
     "data": {
      "text/plain": [
       "<matplotlib.collections.PathCollection at 0x7f7b9ea9bf10>"
      ]
     },
     "execution_count": 81,
     "metadata": {},
     "output_type": "execute_result"
    },
    {
     "data": {
      "image/png": "[encoded data removed]",
      "text/plain": [
       "<Figure size 576x396 with 1 Axes>"
      ]
     },
     "metadata": {},
     "output_type": "display_data"
    }
   ],
   "source": [
    "plt.scatter(y_test_encoded, y_pred_encoded)"
   ]
  },
  {
   "cell_type": "code",
   "execution_count": 82,
   "metadata": {},
   "outputs": [],
   "source": [
    "from sklearn.metrics import mean_squared_error, r2_score, mean_absolute_error"
   ]
  },
  {
   "cell_type": "code",
   "execution_count": 83,
   "metadata": {},
   "outputs": [],
   "source": [
    "k = X_test_final.shape[1]\n",
    "n = len(X_test_final)"
   ]
  },
  {
   "cell_type": "code",
   "execution_count": 84,
   "metadata": {},
   "outputs": [],
   "source": [
    "y_pred = y_scaler.inverse_transform(y_pred_encoded)"
   ]
  },
  {
   "cell_type": "code",
   "execution_count": 85,
   "metadata": {},
   "outputs": [],
   "source": [
    "mae = mean_absolute_error(y_test, y_pred)\n",
    "mse = mean_squared_error(y_test, y_pred)\n",
    "rmse = np.sqrt(mse)\n",
    "r2 = r2_score(y_test, y_pred)\n",
    "adj_r2 = 1 - (1 - r2) * (n - 1) / (n - k - 1)"
   ]
  },
  {
   "cell_type": "code",
   "execution_count": 86,
   "metadata": {},
   "outputs": [
    {
     "name": "stdout",
     "output_type": "stream",
     "text": [
      "MAE 258797.5568200595\n",
      "MSE 90712934396.62247\n",
      "RMSE 301185.8801415207\n",
      "R2 0.32276811915660697\n",
      "R2 Ajustado 0.3148880638358399\n"
     ]
    }
   ],
   "source": [
    "print(f'MAE {mae}')\n",
    "print(f'MSE {mse}')\n",
    "print(f'RMSE {rmse}')\n",
    "print(f'R2 {r2}')\n",
    "print(f'R2 Ajustado {adj_r2}')"
   ]
  },
  {
   "cell_type": "code",
   "execution_count": 74,
   "metadata": {},
   "outputs": [
    {
     "name": "stdout",
     "output_type": "stream",
     "text": [
      "MAE 288079.85385822866\n",
      "MSE 103172544195.3662\n",
      "RMSE 321204.83214822004\n",
      "R2 0.22974891484242976\n",
      "R2 Ajustado 0.22078651756963208\n"
     ]
    }
   ],
   "source": [
    "print(f'MAE {mae}')\n",
    "print(f'MSE {mse}')\n",
    "print(f'RMSE {rmse}')\n",
    "print(f'R2 {r2}')\n",
    "print(f'R2 Ajustado {adj_r2}')"
   ]
  },
  {
   "cell_type": "code",
   "execution_count": 56,
   "metadata": {},
   "outputs": [
    {
     "data": {
      "text/plain": [
       "9053      350000.0\n",
       "11461     275000.0\n",
       "3508      695000.0\n",
       "21600    1537000.0\n",
       "9728      215000.0\n",
       "           ...    \n",
       "15061     725000.0\n",
       "13570     394000.0\n",
       "15967     615000.0\n",
       "17592     350000.0\n",
       "17356     905000.0\n",
       "Name: price, Length: 7565, dtype: float64"
      ]
     },
     "execution_count": 56,
     "metadata": {},
     "output_type": "execute_result"
    }
   ],
   "source": [
    "y_test"
   ]
  },
  {
   "cell_type": "code",
   "execution_count": 57,
   "metadata": {},
   "outputs": [
    {
     "data": {
      "text/plain": [
       "array([[712522.7 ],\n",
       "       [686227.3 ],\n",
       "       [894167.3 ],\n",
       "       ...,\n",
       "       [953828.2 ],\n",
       "       [677186.06],\n",
       "       [995349.3 ]], dtype=float32)"
      ]
     },
     "execution_count": 57,
     "metadata": {},
     "output_type": "execute_result"
    }
   ],
   "source": [
    "y_pred"
   ]
  },
  {
   "cell_type": "code",
   "execution_count": null,
   "metadata": {},
   "outputs": [],
   "source": []
  },
  {
   "cell_type": "code",
   "execution_count": 35,
   "metadata": {},
   "outputs": [
    {
     "data": {
      "text/plain": [
       "-25594.030000000028"
      ]
     },
     "execution_count": 35,
     "metadata": {},
     "output_type": "execute_result"
    }
   ],
   "source": [
    "350000.0  - 375594.03"
   ]
  },
  {
   "cell_type": "code",
   "execution_count": null,
   "metadata": {},
   "outputs": [],
   "source": []
  },
  {
   "cell_type": "code",
   "execution_count": null,
   "metadata": {},
   "outputs": [],
   "source": []
  },
  {
   "cell_type": "code",
   "execution_count": null,
   "metadata": {},
   "outputs": [],
   "source": []
  },
  {
   "cell_type": "code",
   "execution_count": null,
   "metadata": {},
   "outputs": [],
   "source": []
  },
  {
   "cell_type": "code",
   "execution_count": null,
   "metadata": {},
   "outputs": [],
   "source": []
  },
  {
   "cell_type": "code",
   "execution_count": null,
   "metadata": {},
   "outputs": [],
   "source": []
  }
 ],
 "metadata": {
  "kernelspec": {
   "display_name": "Python 3",
   "language": "python",
   "name": "python3"
  },
  "language_info": {
   "codemirror_mode": {
    "name": "ipython",
    "version": 3
   },
   "file_extension": ".py",
   "mimetype": "text/x-python",
   "name": "python",
   "nbconvert_exporter": "python",
   "pygments_lexer": "ipython3",
   "version": "3.8.6"
  }
 },
 "nbformat": 4,
 "nbformat_minor": 4
}
